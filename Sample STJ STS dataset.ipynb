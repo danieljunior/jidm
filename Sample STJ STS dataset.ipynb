{
 "cells": [
  {
   "cell_type": "code",
   "execution_count": null,
   "id": "6c94dcad",
   "metadata": {
    "id": "6c94dcad",
    "pycharm": {
     "name": "#%%\n"
    }
   },
   "outputs": [],
   "source": [
    "import pandas as pd\n",
    "import numpy as np"
   ]
  },
  {
   "cell_type": "code",
   "execution_count": null,
   "id": "948ed26e",
   "metadata": {
    "id": "948ed26e",
    "pycharm": {
     "name": "#%%\n"
    }
   },
   "outputs": [],
   "source": [
    "stj = pd.read_csv('data/sts/stj_sts.csv')\n",
    "stj.head(5)"
   ]
  },
  {
   "cell_type": "code",
   "execution_count": null,
   "id": "4a367e53",
   "metadata": {
    "id": "4a367e53",
    "pycharm": {
     "name": "#%%\n"
    }
   },
   "outputs": [],
   "source": [
    "stj['range'].mask(stj['range'] == 3, 2, inplace=True)\n",
    "stj.head(5)"
   ]
  },
  {
   "cell_type": "code",
   "execution_count": null,
   "id": "dd3bef31",
   "metadata": {
    "id": "dd3bef31",
    "pycharm": {
     "name": "#%%\n"
    }
   },
   "outputs": [],
   "source": [
    "train = stj[stj.SPLIT =='TRAIN'][[\"sentence_A\", \"sentence_B\", 'range']].rename(columns = {'range':'score'})\n",
    "test = stj[stj.SPLIT =='TEST'][[\"sentence_A\", \"sentence_B\", 'range']].rename(columns = {'range':'score'})\n",
    "valid = stj[stj.SPLIT =='VALID'][[\"sentence_A\", \"sentence_B\", 'range']].rename(columns = {'range':'score'})"
   ]
  },
  {
   "cell_type": "code",
   "execution_count": null,
   "id": "1f6a1fea",
   "metadata": {
    "id": "1f6a1fea",
    "pycharm": {
     "name": "#%%\n"
    }
   },
   "outputs": [],
   "source": [
    "test.groupby(['score'])['score'].count()"
   ]
  },
  {
   "cell_type": "code",
   "execution_count": null,
   "id": "d72443e9",
   "metadata": {
    "id": "d72443e9",
    "pycharm": {
     "name": "#%%\n"
    }
   },
   "outputs": [],
   "source": [
    "to_anotate = test[test.score == 0].sample(n=35, random_state=42)\n",
    "to_anotate = pd.concat([to_anotate, test[test.score == 2].sample(n=35, random_state=42)])\n",
    "to_anotate = pd.concat([to_anotate, test[test.score == 4].sample(n=35, random_state=42)])\n",
    "to_anotate.head(5)"
   ]
  },
  {
   "cell_type": "code",
   "execution_count": null,
   "id": "f3f2c245",
   "metadata": {
    "id": "f3f2c245",
    "pycharm": {
     "name": "#%%\n"
    }
   },
   "outputs": [],
   "source": [
    "test = test.drop(to_anotate.index)\n",
    "test.head(5)"
   ]
  },
  {
   "cell_type": "code",
   "execution_count": null,
   "id": "c716d0c5",
   "metadata": {
    "id": "c716d0c5",
    "pycharm": {
     "name": "#%%\n"
    }
   },
   "outputs": [],
   "source": [
    "to_anotate = to_anotate.sample(frac=1, random_state=1).reset_index(drop=True)\n",
    "to_anotate.head(5)"
   ]
  },
  {
   "cell_type": "code",
   "execution_count": null,
   "id": "b402d268",
   "metadata": {
    "id": "b402d268",
    "pycharm": {
     "name": "#%%\n"
    }
   },
   "outputs": [],
   "source": [
    "to_anotate.to_csv('data/to_anotate.csv', index=False)"
   ]
  }
 ],
 "metadata": {
  "kernelspec": {
   "display_name": "Python 3",
   "language": "python",
   "name": "python3"
  },
  "language_info": {
   "codemirror_mode": {
    "name": "ipython",
    "version": 3
   },
   "file_extension": ".py",
   "mimetype": "text/x-python",
   "name": "python",
   "nbconvert_exporter": "python",
   "pygments_lexer": "ipython3",
   "version": "3.7.4"
  },
  "colab": {
   "provenance": []
  }
 },
 "nbformat": 4,
 "nbformat_minor": 5
}