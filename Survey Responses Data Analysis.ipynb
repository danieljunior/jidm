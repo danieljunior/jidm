{
 "cells": [
  {
   "cell_type": "markdown",
   "metadata": {
    "pycharm": {
     "name": "#%% md\n"
    }
   },
   "source": [
    "# Survey responses Data Analysis"
   ]
  },
  {
   "cell_type": "code",
   "execution_count": 33,
   "metadata": {
    "pycharm": {
     "name": "#%%\n"
    }
   },
   "outputs": [
    {
     "name": "stdout",
     "output_type": "stream",
     "text": [
      "3.9.13\n"
     ]
    }
   ],
   "source": [
    "from platform import python_version\n",
    "\n",
    "print(python_version()) # 3.9.12"
   ]
  },
  {
   "cell_type": "code",
   "execution_count": 34,
   "metadata": {
    "pycharm": {
     "name": "#%%\n"
    }
   },
   "outputs": [
    {
     "name": "stdout",
     "output_type": "stream",
     "text": [
      "Requirement already satisfied: krippendorff in /opt/conda/lib/python3.9/site-packages (0.5.2)\n",
      "Requirement already satisfied: numpy in /opt/conda/lib/python3.9/site-packages (from krippendorff) (1.21.5)\n",
      "\u001b[33mWARNING: Running pip as the 'root' user can result in broken permissions and conflicting behaviour with the system package manager. It is recommended to use a virtual environment instead: https://pip.pypa.io/warnings/venv\u001b[0m\u001b[33m\n",
      "\u001b[0m"
     ]
    }
   ],
   "source": [
    "!pip install krippendorff"
   ]
  },
  {
   "cell_type": "code",
   "execution_count": 35,
   "metadata": {
    "pycharm": {
     "name": "#%%\n"
    }
   },
   "outputs": [],
   "source": [
    "import pandas as pd\n",
    "import numpy as np\n",
    "from matplotlib import pyplot as plt\n",
    "import krippendorff\n",
    "import scipy\n",
    "from scipy import stats"
   ]
  },
  {
   "cell_type": "code",
   "execution_count": 36,
   "metadata": {
    "pycharm": {
     "name": "#%%\n"
    }
   },
   "outputs": [
    {
     "data": {
      "text/html": [
       "<div>\n",
       "<style scoped>\n",
       "    .dataframe tbody tr th:only-of-type {\n",
       "        vertical-align: middle;\n",
       "    }\n",
       "\n",
       "    .dataframe tbody tr th {\n",
       "        vertical-align: top;\n",
       "    }\n",
       "\n",
       "    .dataframe thead th {\n",
       "        text-align: right;\n",
       "    }\n",
       "</style>\n",
       "<table border=\"1\" class=\"dataframe\">\n",
       "  <thead>\n",
       "    <tr style=\"text-align: right;\">\n",
       "      <th></th>\n",
       "      <th>TEXT1</th>\n",
       "      <th>TEXT2</th>\n",
       "      <th>SIMILARITY_SCORE</th>\n",
       "      <th>SIMILARITY_CONFIDENCE</th>\n",
       "      <th>TEXT1_HIGHLIGHT</th>\n",
       "      <th>TEXT1_HIGHLIGHT_POSITION</th>\n",
       "      <th>TEXT2_HIGHLIGHT</th>\n",
       "      <th>TEXT2_HIGHLIGHT_POSITION</th>\n",
       "    </tr>\n",
       "  </thead>\n",
       "  <tbody>\n",
       "    <tr>\n",
       "      <th>0</th>\n",
       "      <td>HABEAS CORPUS. AÇÃO DE DESTITUIÇÃO DO PODER FA...</td>\n",
       "      <td>RECURSO ESPECIAL. AÇÃO INDENIZATÓRIA. LEVANTAM...</td>\n",
       "      <td>0</td>\n",
       "      <td>4</td>\n",
       "      <td>A observância do cadastro de adotantes, não é ...</td>\n",
       "      <td>Corpo</td>\n",
       "      <td>ausência de impugnação dos fundamentos do acó...</td>\n",
       "      <td>Corpo</td>\n",
       "    </tr>\n",
       "    <tr>\n",
       "      <th>1</th>\n",
       "      <td>HABEAS CORPUS. AÇÃO DE DESTITUIÇÃO DO PODER FA...</td>\n",
       "      <td>RECURSO ESPECIAL. AÇÃO INDENIZATÓRIA. LEVANTAM...</td>\n",
       "      <td>0</td>\n",
       "      <td>4</td>\n",
       "      <td>Não relacionado</td>\n",
       "      <td>Corpo</td>\n",
       "      <td>Não relacionado</td>\n",
       "      <td>Corpo</td>\n",
       "    </tr>\n",
       "    <tr>\n",
       "      <th>2</th>\n",
       "      <td>PROCESSUAL CIVIL. AGRAVO REGIMENTAL. ART. 535 ...</td>\n",
       "      <td>CIVIL E CONSUMIDOR. RECURSO ESPECIAL. CONTRATO...</td>\n",
       "      <td>1</td>\n",
       "      <td>4</td>\n",
       "      <td>Inviável a análise de matéria federal não pre...</td>\n",
       "      <td>Corpo</td>\n",
       "      <td>deve-se reconhecer a violação ao art. 51, I, d...</td>\n",
       "      <td>Corpo</td>\n",
       "    </tr>\n",
       "    <tr>\n",
       "      <th>3</th>\n",
       "      <td>PROCESSUAL CIVIL. AGRAVO REGIMENTAL. ART. 535 ...</td>\n",
       "      <td>CIVIL E CONSUMIDOR. RECURSO ESPECIAL. CONTRATO...</td>\n",
       "      <td>2</td>\n",
       "      <td>4</td>\n",
       "      <td>O acórdão recorrido está expressamente embasad...</td>\n",
       "      <td>Corpo</td>\n",
       "      <td>Anulada a cláusula que limita o valor da inden...</td>\n",
       "      <td>Corpo</td>\n",
       "    </tr>\n",
       "    <tr>\n",
       "      <th>4</th>\n",
       "      <td>AGRAVO  REGIMENTAL  NO  HABEAS  CORPUS. DIREIT...</td>\n",
       "      <td>PROCESSUAL  PENAL.  CRIME  DE TRÂNSITO. DIREÇÃ...</td>\n",
       "      <td>2</td>\n",
       "      <td>4</td>\n",
       "      <td>os  crimes de embriaguez ao volante</td>\n",
       "      <td>Corpo</td>\n",
       "      <td>dirigir veículo automotor em via\\npública  com...</td>\n",
       "      <td>Corpo</td>\n",
       "    </tr>\n",
       "    <tr>\n",
       "      <th>...</th>\n",
       "      <td>...</td>\n",
       "      <td>...</td>\n",
       "      <td>...</td>\n",
       "      <td>...</td>\n",
       "      <td>...</td>\n",
       "      <td>...</td>\n",
       "      <td>...</td>\n",
       "      <td>...</td>\n",
       "    </tr>\n",
       "    <tr>\n",
       "      <th>235</th>\n",
       "      <td>AGRAVO REGIMENTAL EM RECURSO ESPECIAL. SEGURO....</td>\n",
       "      <td>RECURSO ESPECIAL. PENAL. TRÁFICO ILÍCITO DE DR...</td>\n",
       "      <td>0</td>\n",
       "      <td>4</td>\n",
       "      <td>AGRAVO REGIMENTAL EM RECURSO ESPECIAL. SEGURO....</td>\n",
       "      <td>Cabeçalho</td>\n",
       "      <td>RECURSO ESPECIAL. PENAL. TRÁFICO ILÍCITO DE DR...</td>\n",
       "      <td>Cabeçalho</td>\n",
       "    </tr>\n",
       "    <tr>\n",
       "      <th>236</th>\n",
       "      <td>MANDADO DE SEGURANÇA. LEASING. ISS. AUTORIDADE...</td>\n",
       "      <td>PROCESSUAL CIVIL. ADMINISTRATIVO. MANDADO DE S...</td>\n",
       "      <td>0</td>\n",
       "      <td>0</td>\n",
       "      <td>sem similaridade</td>\n",
       "      <td>Corpo</td>\n",
       "      <td>sem similaridade</td>\n",
       "      <td>Corpo</td>\n",
       "    </tr>\n",
       "    <tr>\n",
       "      <th>237</th>\n",
       "      <td>MANDADO DE SEGURANÇA. LEASING. ISS. AUTORIDADE...</td>\n",
       "      <td>PROCESSUAL CIVIL. ADMINISTRATIVO. MANDADO DE S...</td>\n",
       "      <td>0</td>\n",
       "      <td>4</td>\n",
       "      <td>MANDADO DE SEGURANÇA. LEASING. ISS. AUTORIDADE...</td>\n",
       "      <td>Cabeçalho</td>\n",
       "      <td>PROCESSUAL CIVIL. ADMINISTRATIVO. MANDADO DE S...</td>\n",
       "      <td>Cabeçalho</td>\n",
       "    </tr>\n",
       "    <tr>\n",
       "      <th>238</th>\n",
       "      <td>MANDADO DE SEGURANÇA. ADMINISTRATIVO. POLICIAL...</td>\n",
       "      <td>ADMINISTRATIVO.  MANDADO  DE  SEGURANÇA.  SERV...</td>\n",
       "      <td>3</td>\n",
       "      <td>1</td>\n",
       "      <td>mandado de segurança</td>\n",
       "      <td>Corpo</td>\n",
       "      <td>mandado de segurança</td>\n",
       "      <td>Corpo</td>\n",
       "    </tr>\n",
       "    <tr>\n",
       "      <th>239</th>\n",
       "      <td>MANDADO DE SEGURANÇA. ADMINISTRATIVO. POLICIAL...</td>\n",
       "      <td>ADMINISTRATIVO.  MANDADO  DE  SEGURANÇA.  SERV...</td>\n",
       "      <td>1</td>\n",
       "      <td>3</td>\n",
       "      <td>1. O impetrante foi demitido por ter se utiliz...</td>\n",
       "      <td>Corpo</td>\n",
       "      <td>1.  Mandado  de  segurança  contra  ato do Sr....</td>\n",
       "      <td>Corpo</td>\n",
       "    </tr>\n",
       "  </tbody>\n",
       "</table>\n",
       "<p>240 rows × 8 columns</p>\n",
       "</div>"
      ],
      "text/plain": [
       "                                                 TEXT1  \\\n",
       "0    HABEAS CORPUS. AÇÃO DE DESTITUIÇÃO DO PODER FA...   \n",
       "1    HABEAS CORPUS. AÇÃO DE DESTITUIÇÃO DO PODER FA...   \n",
       "2    PROCESSUAL CIVIL. AGRAVO REGIMENTAL. ART. 535 ...   \n",
       "3    PROCESSUAL CIVIL. AGRAVO REGIMENTAL. ART. 535 ...   \n",
       "4    AGRAVO  REGIMENTAL  NO  HABEAS  CORPUS. DIREIT...   \n",
       "..                                                 ...   \n",
       "235  AGRAVO REGIMENTAL EM RECURSO ESPECIAL. SEGURO....   \n",
       "236  MANDADO DE SEGURANÇA. LEASING. ISS. AUTORIDADE...   \n",
       "237  MANDADO DE SEGURANÇA. LEASING. ISS. AUTORIDADE...   \n",
       "238  MANDADO DE SEGURANÇA. ADMINISTRATIVO. POLICIAL...   \n",
       "239  MANDADO DE SEGURANÇA. ADMINISTRATIVO. POLICIAL...   \n",
       "\n",
       "                                                 TEXT2  SIMILARITY_SCORE  \\\n",
       "0    RECURSO ESPECIAL. AÇÃO INDENIZATÓRIA. LEVANTAM...                 0   \n",
       "1    RECURSO ESPECIAL. AÇÃO INDENIZATÓRIA. LEVANTAM...                 0   \n",
       "2    CIVIL E CONSUMIDOR. RECURSO ESPECIAL. CONTRATO...                 1   \n",
       "3    CIVIL E CONSUMIDOR. RECURSO ESPECIAL. CONTRATO...                 2   \n",
       "4    PROCESSUAL  PENAL.  CRIME  DE TRÂNSITO. DIREÇÃ...                 2   \n",
       "..                                                 ...               ...   \n",
       "235  RECURSO ESPECIAL. PENAL. TRÁFICO ILÍCITO DE DR...                 0   \n",
       "236  PROCESSUAL CIVIL. ADMINISTRATIVO. MANDADO DE S...                 0   \n",
       "237  PROCESSUAL CIVIL. ADMINISTRATIVO. MANDADO DE S...                 0   \n",
       "238  ADMINISTRATIVO.  MANDADO  DE  SEGURANÇA.  SERV...                 3   \n",
       "239  ADMINISTRATIVO.  MANDADO  DE  SEGURANÇA.  SERV...                 1   \n",
       "\n",
       "     SIMILARITY_CONFIDENCE                                    TEXT1_HIGHLIGHT  \\\n",
       "0                        4  A observância do cadastro de adotantes, não é ...   \n",
       "1                        4                                    Não relacionado   \n",
       "2                        4   Inviável a análise de matéria federal não pre...   \n",
       "3                        4  O acórdão recorrido está expressamente embasad...   \n",
       "4                        4                os  crimes de embriaguez ao volante   \n",
       "..                     ...                                                ...   \n",
       "235                      4  AGRAVO REGIMENTAL EM RECURSO ESPECIAL. SEGURO....   \n",
       "236                      0                                   sem similaridade   \n",
       "237                      4  MANDADO DE SEGURANÇA. LEASING. ISS. AUTORIDADE...   \n",
       "238                      1                               mandado de segurança   \n",
       "239                      3  1. O impetrante foi demitido por ter se utiliz...   \n",
       "\n",
       "    TEXT1_HIGHLIGHT_POSITION  \\\n",
       "0                      Corpo   \n",
       "1                      Corpo   \n",
       "2                      Corpo   \n",
       "3                      Corpo   \n",
       "4                      Corpo   \n",
       "..                       ...   \n",
       "235                Cabeçalho   \n",
       "236                    Corpo   \n",
       "237                Cabeçalho   \n",
       "238                    Corpo   \n",
       "239                    Corpo   \n",
       "\n",
       "                                       TEXT2_HIGHLIGHT  \\\n",
       "0     ausência de impugnação dos fundamentos do acó...   \n",
       "1                                      Não relacionado   \n",
       "2    deve-se reconhecer a violação ao art. 51, I, d...   \n",
       "3    Anulada a cláusula que limita o valor da inden...   \n",
       "4    dirigir veículo automotor em via\\npública  com...   \n",
       "..                                                 ...   \n",
       "235  RECURSO ESPECIAL. PENAL. TRÁFICO ILÍCITO DE DR...   \n",
       "236                                   sem similaridade   \n",
       "237  PROCESSUAL CIVIL. ADMINISTRATIVO. MANDADO DE S...   \n",
       "238                               mandado de segurança   \n",
       "239  1.  Mandado  de  segurança  contra  ato do Sr....   \n",
       "\n",
       "    TEXT2_HIGHLIGHT_POSITION  \n",
       "0                      Corpo  \n",
       "1                      Corpo  \n",
       "2                      Corpo  \n",
       "3                      Corpo  \n",
       "4                      Corpo  \n",
       "..                       ...  \n",
       "235                Cabeçalho  \n",
       "236                    Corpo  \n",
       "237                Cabeçalho  \n",
       "238                    Corpo  \n",
       "239                    Corpo  \n",
       "\n",
       "[240 rows x 8 columns]"
      ]
     },
     "execution_count": 36,
     "metadata": {},
     "output_type": "execute_result"
    }
   ],
   "source": [
    "survey = pd.read_csv('data/surveys_responses.csv')\n",
    "survey"
   ]
  },
  {
   "cell_type": "markdown",
   "metadata": {
    "pycharm": {
     "name": "#%% md\n"
    }
   },
   "source": [
    "### Pares com mais de um rótulo"
   ]
  },
  {
   "cell_type": "code",
   "execution_count": 37,
   "metadata": {
    "pycharm": {
     "name": "#%%\n"
    }
   },
   "outputs": [
    {
     "data": {
      "text/plain": [
       "40"
      ]
     },
     "execution_count": 37,
     "metadata": {},
     "output_type": "execute_result"
    }
   ],
   "source": [
    "survey_one_label = survey[survey[['TEXT1','TEXT2','SIMILARITY_SCORE']].groupby(['TEXT1','TEXT2'])['SIMILARITY_SCORE'].transform('count') == 1]\n",
    "survey_one_label.to_csv('data/one_label.csv')\n",
    "len(survey_one_label)"
   ]
  },
  {
   "cell_type": "code",
   "execution_count": 38,
   "metadata": {
    "pycharm": {
     "name": "#%%\n"
    }
   },
   "outputs": [
    {
     "data": {
      "text/html": [
       "<div>\n",
       "<style scoped>\n",
       "    .dataframe tbody tr th:only-of-type {\n",
       "        vertical-align: middle;\n",
       "    }\n",
       "\n",
       "    .dataframe tbody tr th {\n",
       "        vertical-align: top;\n",
       "    }\n",
       "\n",
       "    .dataframe thead th {\n",
       "        text-align: right;\n",
       "    }\n",
       "</style>\n",
       "<table border=\"1\" class=\"dataframe\">\n",
       "  <thead>\n",
       "    <tr style=\"text-align: right;\">\n",
       "      <th></th>\n",
       "      <th>TEXT1</th>\n",
       "      <th>TEXT2</th>\n",
       "      <th>SIMILARITY_SCORE</th>\n",
       "      <th>SIMILARITY_CONFIDENCE</th>\n",
       "      <th>TEXT1_HIGHLIGHT</th>\n",
       "      <th>TEXT1_HIGHLIGHT_POSITION</th>\n",
       "      <th>TEXT2_HIGHLIGHT</th>\n",
       "      <th>TEXT2_HIGHLIGHT_POSITION</th>\n",
       "    </tr>\n",
       "  </thead>\n",
       "  <tbody>\n",
       "    <tr>\n",
       "      <th>0</th>\n",
       "      <td>HABEAS CORPUS. AÇÃO DE DESTITUIÇÃO DO PODER FA...</td>\n",
       "      <td>RECURSO ESPECIAL. AÇÃO INDENIZATÓRIA. LEVANTAM...</td>\n",
       "      <td>0</td>\n",
       "      <td>4</td>\n",
       "      <td>A observância do cadastro de adotantes, não é ...</td>\n",
       "      <td>Corpo</td>\n",
       "      <td>ausência de impugnação dos fundamentos do acó...</td>\n",
       "      <td>Corpo</td>\n",
       "    </tr>\n",
       "    <tr>\n",
       "      <th>1</th>\n",
       "      <td>HABEAS CORPUS. AÇÃO DE DESTITUIÇÃO DO PODER FA...</td>\n",
       "      <td>RECURSO ESPECIAL. AÇÃO INDENIZATÓRIA. LEVANTAM...</td>\n",
       "      <td>0</td>\n",
       "      <td>4</td>\n",
       "      <td>Não relacionado</td>\n",
       "      <td>Corpo</td>\n",
       "      <td>Não relacionado</td>\n",
       "      <td>Corpo</td>\n",
       "    </tr>\n",
       "    <tr>\n",
       "      <th>2</th>\n",
       "      <td>PROCESSUAL CIVIL. AGRAVO REGIMENTAL. ART. 535 ...</td>\n",
       "      <td>CIVIL E CONSUMIDOR. RECURSO ESPECIAL. CONTRATO...</td>\n",
       "      <td>1</td>\n",
       "      <td>4</td>\n",
       "      <td>Inviável a análise de matéria federal não pre...</td>\n",
       "      <td>Corpo</td>\n",
       "      <td>deve-se reconhecer a violação ao art. 51, I, d...</td>\n",
       "      <td>Corpo</td>\n",
       "    </tr>\n",
       "    <tr>\n",
       "      <th>3</th>\n",
       "      <td>PROCESSUAL CIVIL. AGRAVO REGIMENTAL. ART. 535 ...</td>\n",
       "      <td>CIVIL E CONSUMIDOR. RECURSO ESPECIAL. CONTRATO...</td>\n",
       "      <td>2</td>\n",
       "      <td>4</td>\n",
       "      <td>O acórdão recorrido está expressamente embasad...</td>\n",
       "      <td>Corpo</td>\n",
       "      <td>Anulada a cláusula que limita o valor da inden...</td>\n",
       "      <td>Corpo</td>\n",
       "    </tr>\n",
       "    <tr>\n",
       "      <th>4</th>\n",
       "      <td>AGRAVO  REGIMENTAL  NO  HABEAS  CORPUS. DIREIT...</td>\n",
       "      <td>PROCESSUAL  PENAL.  CRIME  DE TRÂNSITO. DIREÇÃ...</td>\n",
       "      <td>2</td>\n",
       "      <td>4</td>\n",
       "      <td>os  crimes de embriaguez ao volante</td>\n",
       "      <td>Corpo</td>\n",
       "      <td>dirigir veículo automotor em via\\npública  com...</td>\n",
       "      <td>Corpo</td>\n",
       "    </tr>\n",
       "    <tr>\n",
       "      <th>...</th>\n",
       "      <td>...</td>\n",
       "      <td>...</td>\n",
       "      <td>...</td>\n",
       "      <td>...</td>\n",
       "      <td>...</td>\n",
       "      <td>...</td>\n",
       "      <td>...</td>\n",
       "      <td>...</td>\n",
       "    </tr>\n",
       "    <tr>\n",
       "      <th>235</th>\n",
       "      <td>AGRAVO REGIMENTAL EM RECURSO ESPECIAL. SEGURO....</td>\n",
       "      <td>RECURSO ESPECIAL. PENAL. TRÁFICO ILÍCITO DE DR...</td>\n",
       "      <td>0</td>\n",
       "      <td>4</td>\n",
       "      <td>AGRAVO REGIMENTAL EM RECURSO ESPECIAL. SEGURO....</td>\n",
       "      <td>Cabeçalho</td>\n",
       "      <td>RECURSO ESPECIAL. PENAL. TRÁFICO ILÍCITO DE DR...</td>\n",
       "      <td>Cabeçalho</td>\n",
       "    </tr>\n",
       "    <tr>\n",
       "      <th>236</th>\n",
       "      <td>MANDADO DE SEGURANÇA. LEASING. ISS. AUTORIDADE...</td>\n",
       "      <td>PROCESSUAL CIVIL. ADMINISTRATIVO. MANDADO DE S...</td>\n",
       "      <td>0</td>\n",
       "      <td>0</td>\n",
       "      <td>sem similaridade</td>\n",
       "      <td>Corpo</td>\n",
       "      <td>sem similaridade</td>\n",
       "      <td>Corpo</td>\n",
       "    </tr>\n",
       "    <tr>\n",
       "      <th>237</th>\n",
       "      <td>MANDADO DE SEGURANÇA. LEASING. ISS. AUTORIDADE...</td>\n",
       "      <td>PROCESSUAL CIVIL. ADMINISTRATIVO. MANDADO DE S...</td>\n",
       "      <td>0</td>\n",
       "      <td>4</td>\n",
       "      <td>MANDADO DE SEGURANÇA. LEASING. ISS. AUTORIDADE...</td>\n",
       "      <td>Cabeçalho</td>\n",
       "      <td>PROCESSUAL CIVIL. ADMINISTRATIVO. MANDADO DE S...</td>\n",
       "      <td>Cabeçalho</td>\n",
       "    </tr>\n",
       "    <tr>\n",
       "      <th>238</th>\n",
       "      <td>MANDADO DE SEGURANÇA. ADMINISTRATIVO. POLICIAL...</td>\n",
       "      <td>ADMINISTRATIVO.  MANDADO  DE  SEGURANÇA.  SERV...</td>\n",
       "      <td>3</td>\n",
       "      <td>1</td>\n",
       "      <td>mandado de segurança</td>\n",
       "      <td>Corpo</td>\n",
       "      <td>mandado de segurança</td>\n",
       "      <td>Corpo</td>\n",
       "    </tr>\n",
       "    <tr>\n",
       "      <th>239</th>\n",
       "      <td>MANDADO DE SEGURANÇA. ADMINISTRATIVO. POLICIAL...</td>\n",
       "      <td>ADMINISTRATIVO.  MANDADO  DE  SEGURANÇA.  SERV...</td>\n",
       "      <td>1</td>\n",
       "      <td>3</td>\n",
       "      <td>1. O impetrante foi demitido por ter se utiliz...</td>\n",
       "      <td>Corpo</td>\n",
       "      <td>1.  Mandado  de  segurança  contra  ato do Sr....</td>\n",
       "      <td>Corpo</td>\n",
       "    </tr>\n",
       "  </tbody>\n",
       "</table>\n",
       "<p>200 rows × 8 columns</p>\n",
       "</div>"
      ],
      "text/plain": [
       "                                                 TEXT1  \\\n",
       "0    HABEAS CORPUS. AÇÃO DE DESTITUIÇÃO DO PODER FA...   \n",
       "1    HABEAS CORPUS. AÇÃO DE DESTITUIÇÃO DO PODER FA...   \n",
       "2    PROCESSUAL CIVIL. AGRAVO REGIMENTAL. ART. 535 ...   \n",
       "3    PROCESSUAL CIVIL. AGRAVO REGIMENTAL. ART. 535 ...   \n",
       "4    AGRAVO  REGIMENTAL  NO  HABEAS  CORPUS. DIREIT...   \n",
       "..                                                 ...   \n",
       "235  AGRAVO REGIMENTAL EM RECURSO ESPECIAL. SEGURO....   \n",
       "236  MANDADO DE SEGURANÇA. LEASING. ISS. AUTORIDADE...   \n",
       "237  MANDADO DE SEGURANÇA. LEASING. ISS. AUTORIDADE...   \n",
       "238  MANDADO DE SEGURANÇA. ADMINISTRATIVO. POLICIAL...   \n",
       "239  MANDADO DE SEGURANÇA. ADMINISTRATIVO. POLICIAL...   \n",
       "\n",
       "                                                 TEXT2  SIMILARITY_SCORE  \\\n",
       "0    RECURSO ESPECIAL. AÇÃO INDENIZATÓRIA. LEVANTAM...                 0   \n",
       "1    RECURSO ESPECIAL. AÇÃO INDENIZATÓRIA. LEVANTAM...                 0   \n",
       "2    CIVIL E CONSUMIDOR. RECURSO ESPECIAL. CONTRATO...                 1   \n",
       "3    CIVIL E CONSUMIDOR. RECURSO ESPECIAL. CONTRATO...                 2   \n",
       "4    PROCESSUAL  PENAL.  CRIME  DE TRÂNSITO. DIREÇÃ...                 2   \n",
       "..                                                 ...               ...   \n",
       "235  RECURSO ESPECIAL. PENAL. TRÁFICO ILÍCITO DE DR...                 0   \n",
       "236  PROCESSUAL CIVIL. ADMINISTRATIVO. MANDADO DE S...                 0   \n",
       "237  PROCESSUAL CIVIL. ADMINISTRATIVO. MANDADO DE S...                 0   \n",
       "238  ADMINISTRATIVO.  MANDADO  DE  SEGURANÇA.  SERV...                 3   \n",
       "239  ADMINISTRATIVO.  MANDADO  DE  SEGURANÇA.  SERV...                 1   \n",
       "\n",
       "     SIMILARITY_CONFIDENCE                                    TEXT1_HIGHLIGHT  \\\n",
       "0                        4  A observância do cadastro de adotantes, não é ...   \n",
       "1                        4                                    Não relacionado   \n",
       "2                        4   Inviável a análise de matéria federal não pre...   \n",
       "3                        4  O acórdão recorrido está expressamente embasad...   \n",
       "4                        4                os  crimes de embriaguez ao volante   \n",
       "..                     ...                                                ...   \n",
       "235                      4  AGRAVO REGIMENTAL EM RECURSO ESPECIAL. SEGURO....   \n",
       "236                      0                                   sem similaridade   \n",
       "237                      4  MANDADO DE SEGURANÇA. LEASING. ISS. AUTORIDADE...   \n",
       "238                      1                               mandado de segurança   \n",
       "239                      3  1. O impetrante foi demitido por ter se utiliz...   \n",
       "\n",
       "    TEXT1_HIGHLIGHT_POSITION  \\\n",
       "0                      Corpo   \n",
       "1                      Corpo   \n",
       "2                      Corpo   \n",
       "3                      Corpo   \n",
       "4                      Corpo   \n",
       "..                       ...   \n",
       "235                Cabeçalho   \n",
       "236                    Corpo   \n",
       "237                Cabeçalho   \n",
       "238                    Corpo   \n",
       "239                    Corpo   \n",
       "\n",
       "                                       TEXT2_HIGHLIGHT  \\\n",
       "0     ausência de impugnação dos fundamentos do acó...   \n",
       "1                                      Não relacionado   \n",
       "2    deve-se reconhecer a violação ao art. 51, I, d...   \n",
       "3    Anulada a cláusula que limita o valor da inden...   \n",
       "4    dirigir veículo automotor em via\\npública  com...   \n",
       "..                                                 ...   \n",
       "235  RECURSO ESPECIAL. PENAL. TRÁFICO ILÍCITO DE DR...   \n",
       "236                                   sem similaridade   \n",
       "237  PROCESSUAL CIVIL. ADMINISTRATIVO. MANDADO DE S...   \n",
       "238                               mandado de segurança   \n",
       "239  1.  Mandado  de  segurança  contra  ato do Sr....   \n",
       "\n",
       "    TEXT2_HIGHLIGHT_POSITION  \n",
       "0                      Corpo  \n",
       "1                      Corpo  \n",
       "2                      Corpo  \n",
       "3                      Corpo  \n",
       "4                      Corpo  \n",
       "..                       ...  \n",
       "235                Cabeçalho  \n",
       "236                    Corpo  \n",
       "237                Cabeçalho  \n",
       "238                    Corpo  \n",
       "239                    Corpo  \n",
       "\n",
       "[200 rows x 8 columns]"
      ]
     },
     "execution_count": 38,
     "metadata": {},
     "output_type": "execute_result"
    }
   ],
   "source": [
    "survey_two_label = survey[survey[['TEXT1','TEXT2','SIMILARITY_SCORE']].groupby(['TEXT1','TEXT2'])['SIMILARITY_SCORE'].transform('count') > 1]\n",
    "survey_two_label"
   ]
  },
  {
   "cell_type": "markdown",
   "metadata": {
    "pycharm": {
     "name": "#%% md\n"
    }
   },
   "source": [
    "#### Então dos 140 pares que deveriam ser anotados por 2 anotadores, 40 pares foram anotados por apenas 1."
   ]
  },
  {
   "cell_type": "code",
   "execution_count": 39,
   "metadata": {
    "pycharm": {
     "name": "#%%\n"
    }
   },
   "outputs": [
    {
     "data": {
      "text/html": [
       "<div>\n",
       "<style scoped>\n",
       "    .dataframe tbody tr th:only-of-type {\n",
       "        vertical-align: middle;\n",
       "    }\n",
       "\n",
       "    .dataframe tbody tr th {\n",
       "        vertical-align: top;\n",
       "    }\n",
       "\n",
       "    .dataframe thead th {\n",
       "        text-align: right;\n",
       "    }\n",
       "</style>\n",
       "<table border=\"1\" class=\"dataframe\">\n",
       "  <thead>\n",
       "    <tr style=\"text-align: right;\">\n",
       "      <th></th>\n",
       "      <th>sentence_A</th>\n",
       "      <th>sentence_B</th>\n",
       "      <th>score</th>\n",
       "    </tr>\n",
       "  </thead>\n",
       "  <tbody>\n",
       "    <tr>\n",
       "      <th>0</th>\n",
       "      <td>PROCESSUAL CIVIL E ADMINISTRATIVO. SERVIDÃO AD...</td>\n",
       "      <td>PROCESSUAL CIVIL E ADMINISTRATIVO - DESAPROPRI...</td>\n",
       "      <td>2</td>\n",
       "    </tr>\n",
       "    <tr>\n",
       "      <th>1</th>\n",
       "      <td>AGRAVO  INTERNO  NO  AGRAVO  EM  RECURSO  ESPE...</td>\n",
       "      <td>AGRAVO  INTERNO NO AGRAVO EM RECURSO ESPECIAL....</td>\n",
       "      <td>4</td>\n",
       "    </tr>\n",
       "    <tr>\n",
       "      <th>2</th>\n",
       "      <td>HABEAS CORPUS. AÇÃO DE DESTITUIÇÃO DO PODER FA...</td>\n",
       "      <td>RECURSO  ESPECIAL. PORTE DE ARMA DE FOGO E MUN...</td>\n",
       "      <td>0</td>\n",
       "    </tr>\n",
       "    <tr>\n",
       "      <th>3</th>\n",
       "      <td>PROCESSUAL CIVIL. AÇÃO CIVIL PÚBLICA. AMBIENTA...</td>\n",
       "      <td>DIREITO CIVIL. FAMÍLIA. ADOÇÃO DE MENORES POR ...</td>\n",
       "      <td>0</td>\n",
       "    </tr>\n",
       "    <tr>\n",
       "      <th>4</th>\n",
       "      <td>AGRAVO REGIMENTAL. RECURSO ORDINÁRIO. MANDADO ...</td>\n",
       "      <td>ADMINISTRATIVO. RECURSO ORDINÁRIO EM MANDADO D...</td>\n",
       "      <td>4</td>\n",
       "    </tr>\n",
       "    <tr>\n",
       "      <th>...</th>\n",
       "      <td>...</td>\n",
       "      <td>...</td>\n",
       "      <td>...</td>\n",
       "    </tr>\n",
       "    <tr>\n",
       "      <th>136</th>\n",
       "      <td>AGRAVO REGIMENTAL NO AGRAVO EM RECURSO ESPECIA...</td>\n",
       "      <td>AGRAVO REGIMENTAL NO AGRAVO EM RECURSO ESPECIA...</td>\n",
       "      <td>2</td>\n",
       "    </tr>\n",
       "    <tr>\n",
       "      <th>137</th>\n",
       "      <td>AGRAVO REGIMENTAL NO AGRAVO EM RECURSO ESPECIA...</td>\n",
       "      <td>PROCESSUAL CIVIL. AGRAVO REGIMENTAL NO AGRAVO ...</td>\n",
       "      <td>4</td>\n",
       "    </tr>\n",
       "    <tr>\n",
       "      <th>138</th>\n",
       "      <td>PROCESSUAL CIVIL E ADMINISTRATIVO. AGRAVO REGI...</td>\n",
       "      <td>PROCESSUAL CIVIL - ADMINISTRATIVO - RECURSO ES...</td>\n",
       "      <td>4</td>\n",
       "    </tr>\n",
       "    <tr>\n",
       "      <th>139</th>\n",
       "      <td>AGRAVO REGIMENTAL NO RECURSO EM MANDADO DE SEG...</td>\n",
       "      <td>ADMINISTRATIVO  E  PROCESSUAL  CIVIL.  MANDADO...</td>\n",
       "      <td>2</td>\n",
       "    </tr>\n",
       "    <tr>\n",
       "      <th>140</th>\n",
       "      <td>ADMINISTRATIVO.   AMBIENTAL.  AÇÃO  CIVIL  PÚB...</td>\n",
       "      <td>AGRAVO REGIMENTAL EM RECURSO ESPECIAL - AÇÃO D...</td>\n",
       "      <td>0</td>\n",
       "    </tr>\n",
       "  </tbody>\n",
       "</table>\n",
       "<p>141 rows × 3 columns</p>\n",
       "</div>"
      ],
      "text/plain": [
       "                                            sentence_A  \\\n",
       "0    PROCESSUAL CIVIL E ADMINISTRATIVO. SERVIDÃO AD...   \n",
       "1    AGRAVO  INTERNO  NO  AGRAVO  EM  RECURSO  ESPE...   \n",
       "2    HABEAS CORPUS. AÇÃO DE DESTITUIÇÃO DO PODER FA...   \n",
       "3    PROCESSUAL CIVIL. AÇÃO CIVIL PÚBLICA. AMBIENTA...   \n",
       "4    AGRAVO REGIMENTAL. RECURSO ORDINÁRIO. MANDADO ...   \n",
       "..                                                 ...   \n",
       "136  AGRAVO REGIMENTAL NO AGRAVO EM RECURSO ESPECIA...   \n",
       "137  AGRAVO REGIMENTAL NO AGRAVO EM RECURSO ESPECIA...   \n",
       "138  PROCESSUAL CIVIL E ADMINISTRATIVO. AGRAVO REGI...   \n",
       "139  AGRAVO REGIMENTAL NO RECURSO EM MANDADO DE SEG...   \n",
       "140  ADMINISTRATIVO.   AMBIENTAL.  AÇÃO  CIVIL  PÚB...   \n",
       "\n",
       "                                            sentence_B  score  \n",
       "0    PROCESSUAL CIVIL E ADMINISTRATIVO - DESAPROPRI...      2  \n",
       "1    AGRAVO  INTERNO NO AGRAVO EM RECURSO ESPECIAL....      4  \n",
       "2    RECURSO  ESPECIAL. PORTE DE ARMA DE FOGO E MUN...      0  \n",
       "3    DIREITO CIVIL. FAMÍLIA. ADOÇÃO DE MENORES POR ...      0  \n",
       "4    ADMINISTRATIVO. RECURSO ORDINÁRIO EM MANDADO D...      4  \n",
       "..                                                 ...    ...  \n",
       "136  AGRAVO REGIMENTAL NO AGRAVO EM RECURSO ESPECIA...      2  \n",
       "137  PROCESSUAL CIVIL. AGRAVO REGIMENTAL NO AGRAVO ...      4  \n",
       "138  PROCESSUAL CIVIL - ADMINISTRATIVO - RECURSO ES...      4  \n",
       "139  ADMINISTRATIVO  E  PROCESSUAL  CIVIL.  MANDADO...      2  \n",
       "140  AGRAVO REGIMENTAL EM RECURSO ESPECIAL - AÇÃO D...      0  \n",
       "\n",
       "[141 rows x 3 columns]"
      ]
     },
     "execution_count": 39,
     "metadata": {},
     "output_type": "execute_result"
    }
   ],
   "source": [
    "heuristic = pd.read_csv('data/to_anotate.csv')\n",
    "heuristic"
   ]
  },
  {
   "cell_type": "markdown",
   "metadata": {
    "pycharm": {
     "name": "#%% md\n"
    },
    "tags": []
   },
   "source": [
    "## Questões de Pesquisa\n",
    "\n",
    "1. Quão relacionadas estão os rótulos dos especialistas para um mesmo par de documentos?\n",
    "2. Onde estão concentrados os trechos principais dos documentos, corpo ou cabeçalho?\n",
    "3. Qual a distribuição dos rótulos no conjunto de dados anotado pelos especialistas?\n",
    "4. Qual a distribuição dos rótulos no conjunto de dados anotado heuristicamente?\n",
    "5. Quão relacionados estão os rótulos dos especialistas e da heurística?\n",
    "6. Qual a média e desvio padrão da confiança dos especialistas aos rótulos atribuídos?"
   ]
  },
  {
   "cell_type": "code",
   "execution_count": 40,
   "metadata": {
    "pycharm": {
     "name": "#%%\n"
    }
   },
   "outputs": [
    {
     "data": {
      "text/html": [
       "<div>\n",
       "<style scoped>\n",
       "    .dataframe tbody tr th:only-of-type {\n",
       "        vertical-align: middle;\n",
       "    }\n",
       "\n",
       "    .dataframe tbody tr th {\n",
       "        vertical-align: top;\n",
       "    }\n",
       "\n",
       "    .dataframe thead th {\n",
       "        text-align: right;\n",
       "    }\n",
       "</style>\n",
       "<table border=\"1\" class=\"dataframe\">\n",
       "  <thead>\n",
       "    <tr style=\"text-align: right;\">\n",
       "      <th></th>\n",
       "      <th>TEXT1</th>\n",
       "      <th>TEXT2</th>\n",
       "      <th>SIMILARITY_SCORE</th>\n",
       "    </tr>\n",
       "  </thead>\n",
       "  <tbody>\n",
       "    <tr>\n",
       "      <th>0</th>\n",
       "      <td>ADMINISTRATIVO  E  PROCESSUAL  CIVIL.  AGRAVO ...</td>\n",
       "      <td>AGRAVO REGIMENTAL. PROCESSUAL CIVIL. NÃO HÁ QU...</td>\n",
       "      <td>[0, 3]</td>\n",
       "    </tr>\n",
       "    <tr>\n",
       "      <th>1</th>\n",
       "      <td>ADMINISTRATIVO  E  PROCESSUAL  CIVIL.  AGRAVO ...</td>\n",
       "      <td>CHEQUE. CAUÇÃO. CAUSA DEBENDI. POSSIBILIDADE\\n...</td>\n",
       "      <td>[0, 2]</td>\n",
       "    </tr>\n",
       "    <tr>\n",
       "      <th>2</th>\n",
       "      <td>ADMINISTRATIVO  E  PROCESSUAL  CIVIL.  RECURSO...</td>\n",
       "      <td>EMBARGOS DE DECLARAÇÃO. PROCESSO CIVIL. APLICA...</td>\n",
       "      <td>[0, 3]</td>\n",
       "    </tr>\n",
       "    <tr>\n",
       "      <th>3</th>\n",
       "      <td>ADMINISTRATIVO  E  PROCESSUAL  CIVIL.  RECURSO...</td>\n",
       "      <td>PROCESSUAL  CIVIL.  AGRAVO  REGIMENTAL NO RECU...</td>\n",
       "      <td>[1, 2]</td>\n",
       "    </tr>\n",
       "    <tr>\n",
       "      <th>4</th>\n",
       "      <td>ADMINISTRATIVO  E  PROCESSUAL  CIVIL.  SUPOSTA...</td>\n",
       "      <td>AGRAVO   INTERNO   EM   AGRAVO  (ART.  544  DO...</td>\n",
       "      <td>[0, 3]</td>\n",
       "    </tr>\n",
       "    <tr>\n",
       "      <th>...</th>\n",
       "      <td>...</td>\n",
       "      <td>...</td>\n",
       "      <td>...</td>\n",
       "    </tr>\n",
       "    <tr>\n",
       "      <th>95</th>\n",
       "      <td>RECURSO ESPECIAL - PROPRIEDADE INDUSTRIAL - DI...</td>\n",
       "      <td>PENAL E PROCESSUAL. RECURSO ORDINÁRIO EM HABEA...</td>\n",
       "      <td>0</td>\n",
       "    </tr>\n",
       "    <tr>\n",
       "      <th>96</th>\n",
       "      <td>RECURSO ESPECIAL - PROPRIEDADE INDUSTRIAL - DI...</td>\n",
       "      <td>PENAL. PROCESSUAL PENAL. HABEAS CORPUS SUBSTIT...</td>\n",
       "      <td>0</td>\n",
       "    </tr>\n",
       "    <tr>\n",
       "      <th>97</th>\n",
       "      <td>RECURSO ESPECIAL. AÇÃO DE COBRANÇA. AVALISTA D...</td>\n",
       "      <td>Direito comercial e processual civil. Agravo n...</td>\n",
       "      <td>[1, 3]</td>\n",
       "    </tr>\n",
       "    <tr>\n",
       "      <th>98</th>\n",
       "      <td>RECURSO ORDINÁRIO EM MANDADO DE SEGURANÇA. ORD...</td>\n",
       "      <td>AGRAVO REGIMENTAL NO AGRAVO EM RECURSO ESPECIA...</td>\n",
       "      <td>[0, 3]</td>\n",
       "    </tr>\n",
       "    <tr>\n",
       "      <th>99</th>\n",
       "      <td>RECURSO ORDINÁRIO EM MANDADO DE SEGURANÇA. POL...</td>\n",
       "      <td>ADMINISTRATIVO E PROCESSUAL CIVIL. AÇÃO CIVIL ...</td>\n",
       "      <td>[0, 1]</td>\n",
       "    </tr>\n",
       "  </tbody>\n",
       "</table>\n",
       "<p>100 rows × 3 columns</p>\n",
       "</div>"
      ],
      "text/plain": [
       "                                                TEXT1  \\\n",
       "0   ADMINISTRATIVO  E  PROCESSUAL  CIVIL.  AGRAVO ...   \n",
       "1   ADMINISTRATIVO  E  PROCESSUAL  CIVIL.  AGRAVO ...   \n",
       "2   ADMINISTRATIVO  E  PROCESSUAL  CIVIL.  RECURSO...   \n",
       "3   ADMINISTRATIVO  E  PROCESSUAL  CIVIL.  RECURSO...   \n",
       "4   ADMINISTRATIVO  E  PROCESSUAL  CIVIL.  SUPOSTA...   \n",
       "..                                                ...   \n",
       "95  RECURSO ESPECIAL - PROPRIEDADE INDUSTRIAL - DI...   \n",
       "96  RECURSO ESPECIAL - PROPRIEDADE INDUSTRIAL - DI...   \n",
       "97  RECURSO ESPECIAL. AÇÃO DE COBRANÇA. AVALISTA D...   \n",
       "98  RECURSO ORDINÁRIO EM MANDADO DE SEGURANÇA. ORD...   \n",
       "99  RECURSO ORDINÁRIO EM MANDADO DE SEGURANÇA. POL...   \n",
       "\n",
       "                                                TEXT2 SIMILARITY_SCORE  \n",
       "0   AGRAVO REGIMENTAL. PROCESSUAL CIVIL. NÃO HÁ QU...           [0, 3]  \n",
       "1   CHEQUE. CAUÇÃO. CAUSA DEBENDI. POSSIBILIDADE\\n...           [0, 2]  \n",
       "2   EMBARGOS DE DECLARAÇÃO. PROCESSO CIVIL. APLICA...           [0, 3]  \n",
       "3   PROCESSUAL  CIVIL.  AGRAVO  REGIMENTAL NO RECU...           [1, 2]  \n",
       "4   AGRAVO   INTERNO   EM   AGRAVO  (ART.  544  DO...           [0, 3]  \n",
       "..                                                ...              ...  \n",
       "95  PENAL E PROCESSUAL. RECURSO ORDINÁRIO EM HABEA...                0  \n",
       "96  PENAL. PROCESSUAL PENAL. HABEAS CORPUS SUBSTIT...                0  \n",
       "97  Direito comercial e processual civil. Agravo n...           [1, 3]  \n",
       "98  AGRAVO REGIMENTAL NO AGRAVO EM RECURSO ESPECIA...           [0, 3]  \n",
       "99  ADMINISTRATIVO E PROCESSUAL CIVIL. AÇÃO CIVIL ...           [0, 1]  \n",
       "\n",
       "[100 rows x 3 columns]"
      ]
     },
     "execution_count": 40,
     "metadata": {},
     "output_type": "execute_result"
    }
   ],
   "source": [
    "# https://stackoverflow.com/questions/15222754/groupby-pandas-dataframe-and-select-most-common-value\n",
    "survey_tmp = survey_two_label[['TEXT1','TEXT2', 'SIMILARITY_SCORE']].astype('object').groupby(['TEXT1','TEXT2'])['SIMILARITY_SCORE']\\\n",
    "                                                    .agg(pd.Series.mode).to_frame().reset_index()\n",
    "survey_tmp"
   ]
  },
  {
   "cell_type": "code",
   "execution_count": 41,
   "metadata": {
    "pycharm": {
     "name": "#%%\n"
    },
    "tags": []
   },
   "outputs": [
    {
     "data": {
      "text/html": [
       "<div>\n",
       "<style scoped>\n",
       "    .dataframe tbody tr th:only-of-type {\n",
       "        vertical-align: middle;\n",
       "    }\n",
       "\n",
       "    .dataframe tbody tr th {\n",
       "        vertical-align: top;\n",
       "    }\n",
       "\n",
       "    .dataframe thead th {\n",
       "        text-align: right;\n",
       "    }\n",
       "</style>\n",
       "<table border=\"1\" class=\"dataframe\">\n",
       "  <thead>\n",
       "    <tr style=\"text-align: right;\">\n",
       "      <th></th>\n",
       "      <th>TEXT1</th>\n",
       "      <th>TEXT2</th>\n",
       "      <th>SIMILARITY_SCORE</th>\n",
       "    </tr>\n",
       "  </thead>\n",
       "  <tbody>\n",
       "    <tr>\n",
       "      <th>0</th>\n",
       "      <td>ADMINISTRATIVO  E  PROCESSUAL  CIVIL.  AGRAVO ...</td>\n",
       "      <td>AGRAVO REGIMENTAL. PROCESSUAL CIVIL. NÃO HÁ QU...</td>\n",
       "      <td>[0, 3]</td>\n",
       "    </tr>\n",
       "    <tr>\n",
       "      <th>1</th>\n",
       "      <td>ADMINISTRATIVO  E  PROCESSUAL  CIVIL.  AGRAVO ...</td>\n",
       "      <td>CHEQUE. CAUÇÃO. CAUSA DEBENDI. POSSIBILIDADE\\n...</td>\n",
       "      <td>[0, 2]</td>\n",
       "    </tr>\n",
       "    <tr>\n",
       "      <th>2</th>\n",
       "      <td>ADMINISTRATIVO  E  PROCESSUAL  CIVIL.  RECURSO...</td>\n",
       "      <td>EMBARGOS DE DECLARAÇÃO. PROCESSO CIVIL. APLICA...</td>\n",
       "      <td>[0, 3]</td>\n",
       "    </tr>\n",
       "    <tr>\n",
       "      <th>3</th>\n",
       "      <td>ADMINISTRATIVO  E  PROCESSUAL  CIVIL.  RECURSO...</td>\n",
       "      <td>PROCESSUAL  CIVIL.  AGRAVO  REGIMENTAL NO RECU...</td>\n",
       "      <td>[1, 2]</td>\n",
       "    </tr>\n",
       "    <tr>\n",
       "      <th>4</th>\n",
       "      <td>ADMINISTRATIVO  E  PROCESSUAL  CIVIL.  SUPOSTA...</td>\n",
       "      <td>AGRAVO   INTERNO   EM   AGRAVO  (ART.  544  DO...</td>\n",
       "      <td>[0, 3]</td>\n",
       "    </tr>\n",
       "    <tr>\n",
       "      <th>...</th>\n",
       "      <td>...</td>\n",
       "      <td>...</td>\n",
       "      <td>...</td>\n",
       "    </tr>\n",
       "    <tr>\n",
       "      <th>91</th>\n",
       "      <td>PROCESSUAL CIVIL. EMBARGOS DE DECLARAÇÃO NO RE...</td>\n",
       "      <td>AGRAVO REGIMENTAL. PROCESSUAL CIVIL. EXECUÇÃO ...</td>\n",
       "      <td>[0, 2]</td>\n",
       "    </tr>\n",
       "    <tr>\n",
       "      <th>92</th>\n",
       "      <td>RECURSO EM HABEAS CORPUS. TRÁFICO DE DROGAS E ...</td>\n",
       "      <td>HABEAS CORPUS. ARTS. 33 E 35 DA LEI Nº 11.343/...</td>\n",
       "      <td>[2, 3]</td>\n",
       "    </tr>\n",
       "    <tr>\n",
       "      <th>97</th>\n",
       "      <td>RECURSO ESPECIAL. AÇÃO DE COBRANÇA. AVALISTA D...</td>\n",
       "      <td>Direito comercial e processual civil. Agravo n...</td>\n",
       "      <td>[1, 3]</td>\n",
       "    </tr>\n",
       "    <tr>\n",
       "      <th>98</th>\n",
       "      <td>RECURSO ORDINÁRIO EM MANDADO DE SEGURANÇA. ORD...</td>\n",
       "      <td>AGRAVO REGIMENTAL NO AGRAVO EM RECURSO ESPECIA...</td>\n",
       "      <td>[0, 3]</td>\n",
       "    </tr>\n",
       "    <tr>\n",
       "      <th>99</th>\n",
       "      <td>RECURSO ORDINÁRIO EM MANDADO DE SEGURANÇA. POL...</td>\n",
       "      <td>ADMINISTRATIVO E PROCESSUAL CIVIL. AÇÃO CIVIL ...</td>\n",
       "      <td>[0, 1]</td>\n",
       "    </tr>\n",
       "  </tbody>\n",
       "</table>\n",
       "<p>68 rows × 3 columns</p>\n",
       "</div>"
      ],
      "text/plain": [
       "                                                TEXT1  \\\n",
       "0   ADMINISTRATIVO  E  PROCESSUAL  CIVIL.  AGRAVO ...   \n",
       "1   ADMINISTRATIVO  E  PROCESSUAL  CIVIL.  AGRAVO ...   \n",
       "2   ADMINISTRATIVO  E  PROCESSUAL  CIVIL.  RECURSO...   \n",
       "3   ADMINISTRATIVO  E  PROCESSUAL  CIVIL.  RECURSO...   \n",
       "4   ADMINISTRATIVO  E  PROCESSUAL  CIVIL.  SUPOSTA...   \n",
       "..                                                ...   \n",
       "91  PROCESSUAL CIVIL. EMBARGOS DE DECLARAÇÃO NO RE...   \n",
       "92  RECURSO EM HABEAS CORPUS. TRÁFICO DE DROGAS E ...   \n",
       "97  RECURSO ESPECIAL. AÇÃO DE COBRANÇA. AVALISTA D...   \n",
       "98  RECURSO ORDINÁRIO EM MANDADO DE SEGURANÇA. ORD...   \n",
       "99  RECURSO ORDINÁRIO EM MANDADO DE SEGURANÇA. POL...   \n",
       "\n",
       "                                                TEXT2 SIMILARITY_SCORE  \n",
       "0   AGRAVO REGIMENTAL. PROCESSUAL CIVIL. NÃO HÁ QU...           [0, 3]  \n",
       "1   CHEQUE. CAUÇÃO. CAUSA DEBENDI. POSSIBILIDADE\\n...           [0, 2]  \n",
       "2   EMBARGOS DE DECLARAÇÃO. PROCESSO CIVIL. APLICA...           [0, 3]  \n",
       "3   PROCESSUAL  CIVIL.  AGRAVO  REGIMENTAL NO RECU...           [1, 2]  \n",
       "4   AGRAVO   INTERNO   EM   AGRAVO  (ART.  544  DO...           [0, 3]  \n",
       "..                                                ...              ...  \n",
       "91  AGRAVO REGIMENTAL. PROCESSUAL CIVIL. EXECUÇÃO ...           [0, 2]  \n",
       "92  HABEAS CORPUS. ARTS. 33 E 35 DA LEI Nº 11.343/...           [2, 3]  \n",
       "97  Direito comercial e processual civil. Agravo n...           [1, 3]  \n",
       "98  AGRAVO REGIMENTAL NO AGRAVO EM RECURSO ESPECIA...           [0, 3]  \n",
       "99  ADMINISTRATIVO E PROCESSUAL CIVIL. AÇÃO CIVIL ...           [0, 1]  \n",
       "\n",
       "[68 rows x 3 columns]"
      ]
     },
     "execution_count": 41,
     "metadata": {},
     "output_type": "execute_result"
    }
   ],
   "source": [
    "survey_discrepancy = survey_tmp.iloc[[x.Index for x in survey_tmp.itertuples() if type(x.SIMILARITY_SCORE)== np.ndarray]]\n",
    "survey_discrepancy.to_csv('data/discrepancy.csv')\n",
    "survey_discrepancy"
   ]
  },
  {
   "cell_type": "code",
   "execution_count": 42,
   "metadata": {
    "pycharm": {
     "name": "#%%\n"
    },
    "tags": []
   },
   "outputs": [
    {
     "data": {
      "text/html": [
       "<div>\n",
       "<style scoped>\n",
       "    .dataframe tbody tr th:only-of-type {\n",
       "        vertical-align: middle;\n",
       "    }\n",
       "\n",
       "    .dataframe tbody tr th {\n",
       "        vertical-align: top;\n",
       "    }\n",
       "\n",
       "    .dataframe thead th {\n",
       "        text-align: right;\n",
       "    }\n",
       "</style>\n",
       "<table border=\"1\" class=\"dataframe\">\n",
       "  <thead>\n",
       "    <tr style=\"text-align: right;\">\n",
       "      <th></th>\n",
       "      <th>TEXT1</th>\n",
       "      <th>TEXT2</th>\n",
       "      <th>SIMILARITY_SCORE</th>\n",
       "      <th>SIMILARITY_CONFIDENCE</th>\n",
       "      <th>TEXT1_HIGHLIGHT</th>\n",
       "      <th>TEXT1_HIGHLIGHT_POSITION</th>\n",
       "      <th>TEXT2_HIGHLIGHT</th>\n",
       "      <th>TEXT2_HIGHLIGHT_POSITION</th>\n",
       "    </tr>\n",
       "  </thead>\n",
       "  <tbody>\n",
       "    <tr>\n",
       "      <th>8</th>\n",
       "      <td>AGRAVO  REGIMENTAL NO PEDIDO SUSPENSIVO. LEGIT...</td>\n",
       "      <td>AGRAVO REGIMENTAL NO AGRAVO REGIMENTAL. SUSPEN...</td>\n",
       "      <td>1</td>\n",
       "      <td>4</td>\n",
       "      <td>entendimento pacificado neste Corte,</td>\n",
       "      <td>Corpo</td>\n",
       "      <td>A jurisprudência já assentou entendimento</td>\n",
       "      <td>Corpo</td>\n",
       "    </tr>\n",
       "    <tr>\n",
       "      <th>9</th>\n",
       "      <td>AGRAVO  REGIMENTAL NO PEDIDO SUSPENSIVO. LEGIT...</td>\n",
       "      <td>AGRAVO REGIMENTAL NO AGRAVO REGIMENTAL. SUSPEN...</td>\n",
       "      <td>4</td>\n",
       "      <td>4</td>\n",
       "      <td>Conforme  entendimento pacificado neste Corte,...</td>\n",
       "      <td>Corpo</td>\n",
       "      <td>A jurisprudência já assentou entendimento no s...</td>\n",
       "      <td>Corpo</td>\n",
       "    </tr>\n",
       "    <tr>\n",
       "      <th>11</th>\n",
       "      <td>AGRAVO REGIMENTAL NOS EMBARGOS DE DECLARAÇÃO N...</td>\n",
       "      <td>RECURSO ESPECIAL. CIVIL. INCORPORAÇÃO IMOBILIÁ...</td>\n",
       "      <td>3</td>\n",
       "      <td>4</td>\n",
       "      <td>A abusividade da pactuação deve ser cabalmente...</td>\n",
       "      <td>Corpo</td>\n",
       "      <td>Todavia, a autorização de alienação do imóvel ...</td>\n",
       "      <td>Corpo</td>\n",
       "    </tr>\n",
       "    <tr>\n",
       "      <th>13</th>\n",
       "      <td>DIREITO CIVIL E DO CONSUMIDOR. AGRAVO NO RECUR...</td>\n",
       "      <td>PENAL.   HABEAS   CORPUS   SUBSTITUTIVO  DE  R...</td>\n",
       "      <td>0</td>\n",
       "      <td>4</td>\n",
       "      <td>Não relacionado</td>\n",
       "      <td>Corpo</td>\n",
       "      <td>Não relacionado</td>\n",
       "      <td>Corpo</td>\n",
       "    </tr>\n",
       "    <tr>\n",
       "      <th>17</th>\n",
       "      <td>CIVIL E PROCESSUAL CIVIL. BANCÁRIO. AGRAVO REG...</td>\n",
       "      <td>AGRAVO REGIMENTAL NO AGRAVO EM RECURSO ESPECIA...</td>\n",
       "      <td>2</td>\n",
       "      <td>4</td>\n",
       "      <td>A taxa média de mercado apurada pelo Banco Cen...</td>\n",
       "      <td>Corpo</td>\n",
       "      <td>as instituições financeiras não se sujeitam à ...</td>\n",
       "      <td>Corpo</td>\n",
       "    </tr>\n",
       "    <tr>\n",
       "      <th>18</th>\n",
       "      <td>ADMINISTRATIVO  E  PROCESSUAL  CIVIL.  RECURSO...</td>\n",
       "      <td>PROCESSUAL  CIVIL.  AGRAVO  REGIMENTAL NO RECU...</td>\n",
       "      <td>1</td>\n",
       "      <td>4</td>\n",
       "      <td>lesão causada ao meio ambiente\\npermite  a  cu...</td>\n",
       "      <td>Corpo</td>\n",
       "      <td>A  cobrança  indevida  de  serviço  de telefon...</td>\n",
       "      <td>Corpo</td>\n",
       "    </tr>\n",
       "    <tr>\n",
       "      <th>19</th>\n",
       "      <td>ADMINISTRATIVO  E  PROCESSUAL  CIVIL.  RECURSO...</td>\n",
       "      <td>PROCESSUAL  CIVIL.  AGRAVO  REGIMENTAL NO RECU...</td>\n",
       "      <td>2</td>\n",
       "      <td>4</td>\n",
       "      <td>A  responsabilidade  pelos  atos  que  desresp...</td>\n",
       "      <td>Corpo</td>\n",
       "      <td>cobrança  indevida  de  serviço  de telefoni...</td>\n",
       "      <td>Corpo</td>\n",
       "    </tr>\n",
       "    <tr>\n",
       "      <th>25</th>\n",
       "      <td>EXECUÇÃO PENAL. HABEAS CORPUS SUBSTITUTIVO DE ...</td>\n",
       "      <td>HABEAS CORPUS SUBSTITUTIVO DE RECURSO ORDINÁRI...</td>\n",
       "      <td>3</td>\n",
       "      <td>4</td>\n",
       "      <td>HABEAS CORPUS NÃO CONHECIDO.</td>\n",
       "      <td>Cabeçalho</td>\n",
       "      <td>HABEAS CORPUS CONCEDIDA DE OFÍCIO</td>\n",
       "      <td>Cabeçalho</td>\n",
       "    </tr>\n",
       "    <tr>\n",
       "      <th>43</th>\n",
       "      <td>ADMINISTRATIVO. MANDADO DE SEGURANÇA. PROCESSO...</td>\n",
       "      <td>PROCESSUAL CIVIL. ADMINISTRATIVO. DANOS AMBIEN...</td>\n",
       "      <td>0</td>\n",
       "      <td>4</td>\n",
       "      <td>1. A prova produzida em ação penal pode ser us...</td>\n",
       "      <td>Corpo</td>\n",
       "      <td>0. Deveras, o Tribunal  a quo à luz de ampla c...</td>\n",
       "      <td>Corpo</td>\n",
       "    </tr>\n",
       "    <tr>\n",
       "      <th>47</th>\n",
       "      <td>AGRAVO REGIMENTAL. AGRAVO EM RECURSO ESPECIAL....</td>\n",
       "      <td>PROCESSUAL CIVIL. LOCAÇÃO. AÇÃO DE DESPEJO. AP...</td>\n",
       "      <td>4</td>\n",
       "      <td>4</td>\n",
       "      <td>2. O recurso de apelação que ataca sentença pr...</td>\n",
       "      <td>Corpo</td>\n",
       "      <td>I - O Superior Tribunal de Justiça já pacifico...</td>\n",
       "      <td>Corpo</td>\n",
       "    </tr>\n",
       "    <tr>\n",
       "      <th>48</th>\n",
       "      <td>CONTRATO BANCÁRIO. AGRAVO REGIMENTAL NO RECURS...</td>\n",
       "      <td>CIVIL E PROCESSUAL. AGRAVO REGIMENTAL. AGRAVO ...</td>\n",
       "      <td>2</td>\n",
       "      <td>3</td>\n",
       "      <td>. É abusiva, na espécie, a cláusula contratual...</td>\n",
       "      <td>Corpo</td>\n",
       "      <td>É inválida a emissão pelo credor de letra de ...</td>\n",
       "      <td>Corpo</td>\n",
       "    </tr>\n",
       "    <tr>\n",
       "      <th>51</th>\n",
       "      <td>RECURSO ESPECIAL - PROPRIEDADE INDUSTRIAL - DI...</td>\n",
       "      <td>PENAL. PROCESSUAL PENAL. HABEAS CORPUS SUBSTIT...</td>\n",
       "      <td>0</td>\n",
       "      <td>4</td>\n",
       "      <td>RECURSO ESPECIAL - PROPRIEDADE INDUSTRIAL - DI...</td>\n",
       "      <td>Cabeçalho</td>\n",
       "      <td>PENAL. PROCESSUAL PENAL. HABEAS CORPUS SUBSTIT...</td>\n",
       "      <td>Cabeçalho</td>\n",
       "    </tr>\n",
       "    <tr>\n",
       "      <th>52</th>\n",
       "      <td>RECURSO EM HABEAS CORPUS. TRÁFICO DE DROGAS E ...</td>\n",
       "      <td>HABEAS CORPUS. ARTS. 33 E 35 DA LEI Nº 11.343/...</td>\n",
       "      <td>2</td>\n",
       "      <td>3</td>\n",
       "      <td>Para  a  configuração  do crime de associação ...</td>\n",
       "      <td>Corpo</td>\n",
       "      <td>A periculosidade concreta do paciente a justi...</td>\n",
       "      <td>Corpo</td>\n",
       "    </tr>\n",
       "    <tr>\n",
       "      <th>56</th>\n",
       "      <td>AGRAVO REGIMENTAL EM AGRAVO DE INSTRUMENTO. CI...</td>\n",
       "      <td>AGRAVO REGIMENTAL NO AGRAVO (ART. 544 DO CPC) ...</td>\n",
       "      <td>3</td>\n",
       "      <td>3</td>\n",
       "      <td>LIMITAÇÃO TAXA DE JUROS REMUNERATÓRIOS COBRADA...</td>\n",
       "      <td>Cabeçalho</td>\n",
       "      <td>A circunstância de a taxa de juros remuneratór...</td>\n",
       "      <td>Corpo</td>\n",
       "    </tr>\n",
       "    <tr>\n",
       "      <th>59</th>\n",
       "      <td>AGRAVO REGIMENTAL NO RECURSO ESPECIAL. CIVIL E...</td>\n",
       "      <td>AGRAVO  INTERNO  NO RECURSO ESPECIAL. AÇÃO ORD...</td>\n",
       "      <td>1</td>\n",
       "      <td>3</td>\n",
       "      <td>NEGATIVA   DE  PRESTAÇÃO  JURISDICIONAL  NÃO  ...</td>\n",
       "      <td>Cabeçalho</td>\n",
       "      <td>AÇÃO ORDINÁRIA. COMPROMISSO DE COMPRA  E  VEND...</td>\n",
       "      <td>Cabeçalho</td>\n",
       "    </tr>\n",
       "    <tr>\n",
       "      <th>60</th>\n",
       "      <td>ADMINISTRATIVO - PROCESSO ADMINISTRATIVO DISCI...</td>\n",
       "      <td>DIREITO PROCESSUAL CIVIL E ADMINISTRATIVO - EM...</td>\n",
       "      <td>3</td>\n",
       "      <td>3</td>\n",
       "      <td>A prática de atos de mero impulso processual, ...</td>\n",
       "      <td>Corpo</td>\n",
       "      <td>\"o deferimento de provimento judicial liminar ...</td>\n",
       "      <td>Corpo</td>\n",
       "    </tr>\n",
       "    <tr>\n",
       "      <th>61</th>\n",
       "      <td>ADMINISTRATIVO - PROCESSO ADMINISTRATIVO DISCI...</td>\n",
       "      <td>DIREITO PROCESSUAL CIVIL E ADMINISTRATIVO - EM...</td>\n",
       "      <td>0</td>\n",
       "      <td>4</td>\n",
       "      <td>PROCESSO ADMINISTRATIVO DISCIPLINAR - POLICIAL...</td>\n",
       "      <td>Cabeçalho</td>\n",
       "      <td>DIREITO PROCESSUAL CIVIL E ADMINISTRATIVO - EM...</td>\n",
       "      <td>Cabeçalho</td>\n",
       "    </tr>\n",
       "    <tr>\n",
       "      <th>62</th>\n",
       "      <td>ADMINISTRATIVO. ENERGIA ELÉTRICA.  INTERRUPÇÃO...</td>\n",
       "      <td>ADMINISTRATIVO. FORNECIMENTO DE ÁGUA. ALEGAÇÃO...</td>\n",
       "      <td>2</td>\n",
       "      <td>3</td>\n",
       "      <td>Não há que se proceder à suspensão da energia ...</td>\n",
       "      <td>Corpo</td>\n",
       "      <td>Nos termos da jurisprudência desta Corte, é i...</td>\n",
       "      <td>Corpo</td>\n",
       "    </tr>\n",
       "    <tr>\n",
       "      <th>64</th>\n",
       "      <td>Data da Publicação/Fonte\\nDJe 06/12/2010</td>\n",
       "      <td>AGRAVO REGIMENTAL. RECURSO ESPECIAL. LOCAÇÃO. ...</td>\n",
       "      <td>0</td>\n",
       "      <td>0</td>\n",
       "      <td>não se aplica</td>\n",
       "      <td>Cabeçalho</td>\n",
       "      <td>não se aplica</td>\n",
       "      <td>Cabeçalho</td>\n",
       "    </tr>\n",
       "    <tr>\n",
       "      <th>65</th>\n",
       "      <td>Data da Publicação/Fonte\\nDJe 06/12/2010</td>\n",
       "      <td>AGRAVO REGIMENTAL. RECURSO ESPECIAL. LOCAÇÃO. ...</td>\n",
       "      <td>0</td>\n",
       "      <td>0</td>\n",
       "      <td>Não analisado. Erro na Ementa do texto. Aparec...</td>\n",
       "      <td>Cabeçalho</td>\n",
       "      <td>Não analisado. Erro na Ementa do texto. Aparec...</td>\n",
       "      <td>Cabeçalho</td>\n",
       "    </tr>\n",
       "    <tr>\n",
       "      <th>69</th>\n",
       "      <td>AGRAVO REGIMENTAL EM RECURSO ESPECIAL. DIREITO...</td>\n",
       "      <td>PROCESSUAL CIVIL. AGRAVO REGIMENTAL NO AGRAVO ...</td>\n",
       "      <td>1</td>\n",
       "      <td>3</td>\n",
       "      <td>2. O apontamento indevido de título de dívida ...</td>\n",
       "      <td>Corpo</td>\n",
       "      <td>1. Tendo o Tribunal de origem registrado que a...</td>\n",
       "      <td>Corpo</td>\n",
       "    </tr>\n",
       "    <tr>\n",
       "      <th>70</th>\n",
       "      <td>ADMINISTRATIVO.    CÓDIGO    DE    TRÂNSITO   ...</td>\n",
       "      <td>PROCESSUAL  CIVIL E ADMINISTRATIVO. CARTEIRA N...</td>\n",
       "      <td>3</td>\n",
       "      <td>2</td>\n",
       "      <td>no sentido de que a\\ninfração de trânsito cons...</td>\n",
       "      <td>Corpo</td>\n",
       "      <td>O  Superior Tribunal de Justiça entende ser po...</td>\n",
       "      <td>Corpo</td>\n",
       "    </tr>\n",
       "    <tr>\n",
       "      <th>71</th>\n",
       "      <td>ADMINISTRATIVO.    CÓDIGO    DE    TRÂNSITO   ...</td>\n",
       "      <td>PROCESSUAL  CIVIL E ADMINISTRATIVO. CARTEIRA N...</td>\n",
       "      <td>3</td>\n",
       "      <td>3</td>\n",
       "      <td>Nesse   sentido:   STJ,  REsp  1.655.350/RS,  ...</td>\n",
       "      <td>Corpo</td>\n",
       "      <td>2.  O  Superior Tribunal de Justiça entende se...</td>\n",
       "      <td>Corpo</td>\n",
       "    </tr>\n",
       "    <tr>\n",
       "      <th>72</th>\n",
       "      <td>ADMINISTRATIVO  E  PROCESSUAL  CIVIL.  AGRAVO ...</td>\n",
       "      <td>CHEQUE. CAUÇÃO. CAUSA DEBENDI. POSSIBILIDADE\\n...</td>\n",
       "      <td>0</td>\n",
       "      <td>4</td>\n",
       "      <td>Acerca  da inversão do ônus da prova, a Corte ...</td>\n",
       "      <td>Corpo</td>\n",
       "      <td>Não é razoável em cheque dado como caução para...</td>\n",
       "      <td>Corpo</td>\n",
       "    </tr>\n",
       "    <tr>\n",
       "      <th>74</th>\n",
       "      <td>RECURSO ORDINÁRIO EM MANDADO DE SEGURANÇA. ORD...</td>\n",
       "      <td>AGRAVO REGIMENTAL NO AGRAVO EM RECURSO ESPECIA...</td>\n",
       "      <td>0</td>\n",
       "      <td>4</td>\n",
       "      <td>A incompetência da autoridade não foi reconhec...</td>\n",
       "      <td>Corpo</td>\n",
       "      <td>A instituição de ensino deve indenizar o aluno...</td>\n",
       "      <td>Corpo</td>\n",
       "    </tr>\n",
       "    <tr>\n",
       "      <th>87</th>\n",
       "      <td>AGRAVO  INTERNO NO AGRAVO (ART. 544 DO CPC/73)...</td>\n",
       "      <td>PROCESSUAL CIVIL. AGRAVO INTERNO NO AGRAVO EM ...</td>\n",
       "      <td>3</td>\n",
       "      <td>2</td>\n",
       "      <td>4. O entendimento firmado pela Corte estadual ...</td>\n",
       "      <td>Corpo</td>\n",
       "      <td>PROCESSUAL CIVIL. AGRAVO INTERNO NO AGRAVO EM ...</td>\n",
       "      <td>Cabeçalho</td>\n",
       "    </tr>\n",
       "    <tr>\n",
       "      <th>88</th>\n",
       "      <td>DIREITO DO CONSUMIDOR. ARBITRAGEM. RECURSO ESP...</td>\n",
       "      <td>AGRAVO INTERNO NO AGRAVO INTERNO NO AGRAVO EM ...</td>\n",
       "      <td>1</td>\n",
       "      <td>3</td>\n",
       "      <td>DIREITO DO CONSUMIDOR. ARBITRAGEM.</td>\n",
       "      <td>Cabeçalho</td>\n",
       "      <td>RELAÇÃO\\nDE CONSUMO. CONVENÇÃO DE ARBITRAGEM.</td>\n",
       "      <td>Cabeçalho</td>\n",
       "    </tr>\n",
       "    <tr>\n",
       "      <th>90</th>\n",
       "      <td>ADMINISTRATIVO E PROCESSUAL CIVIL. EMBARGOS DE...</td>\n",
       "      <td>ADMINISTRATIVO. PROCESSO ADMINISTRATIVO DISCIP...</td>\n",
       "      <td>0</td>\n",
       "      <td>3</td>\n",
       "      <td>A adoção de jurisprudência desta Corte Superio...</td>\n",
       "      <td>Corpo</td>\n",
       "      <td>A Lei n. 8.112/90, em seu art. 142, § 2º, disp...</td>\n",
       "      <td>Corpo</td>\n",
       "    </tr>\n",
       "    <tr>\n",
       "      <th>93</th>\n",
       "      <td>ADMINISTRATIVO E PROCESSUAL CIVIL. AGRAVO INTE...</td>\n",
       "      <td>RECURSO ESPECIAL. AÇÃO DE REGRESSO. CHEQUE PÓS...</td>\n",
       "      <td>0</td>\n",
       "      <td>4</td>\n",
       "      <td>Na origem, trata-se de Agravo de Instrumento, ...</td>\n",
       "      <td>Corpo</td>\n",
       "      <td>O entendimento firmado pelo Tribunal a quo - n...</td>\n",
       "      <td>Corpo</td>\n",
       "    </tr>\n",
       "    <tr>\n",
       "      <th>94</th>\n",
       "      <td>EMBARGOS DE DECLARAÇÃO. AGRAVO REGIMENTAL. AGR...</td>\n",
       "      <td>PROCESSUAL CIVIL. AGRAVO REGIMENTAL NO AGRAVO ...</td>\n",
       "      <td>4</td>\n",
       "      <td>4</td>\n",
       "      <td>EMBARGOS DE DECLARAÇÃO. AGRAVO REGIMENTAL. AGR...</td>\n",
       "      <td>Cabeçalho</td>\n",
       "      <td>PROCESSUAL CIVIL. AGRAVO REGIMENTAL NO AGRAVO ...</td>\n",
       "      <td>Cabeçalho</td>\n",
       "    </tr>\n",
       "    <tr>\n",
       "      <th>95</th>\n",
       "      <td>PROCESSUAL  CIVIL.  ADMINISTRATIVO.  MANDADO  ...</td>\n",
       "      <td>ADMINISTRATIVO.  AGRAVO INTERNO EM MANDADO DE ...</td>\n",
       "      <td>3</td>\n",
       "      <td>4</td>\n",
       "      <td>PROCESSUAL  CIVIL.  ADMINISTRATIVO.  MANDADO  ...</td>\n",
       "      <td>Cabeçalho</td>\n",
       "      <td>ADMINISTRATIVO.  AGRAVO INTERNO EM MANDADO DE ...</td>\n",
       "      <td>Cabeçalho</td>\n",
       "    </tr>\n",
       "    <tr>\n",
       "      <th>96</th>\n",
       "      <td>AGRAVO REGIMENTAL NO AGRAVO EM RECURSO ESPECIA...</td>\n",
       "      <td>AGRAVO REGIMENTAL NO AGRAVO EM RECURSO ESPECIA...</td>\n",
       "      <td>4</td>\n",
       "      <td>4</td>\n",
       "      <td>AGRAVO REGIMENTAL NO AGRAVO EM RECURSO ESPECIA...</td>\n",
       "      <td>Cabeçalho</td>\n",
       "      <td>AGRAVO REGIMENTAL NO AGRAVO EM RECURSO ESPECIA...</td>\n",
       "      <td>Cabeçalho</td>\n",
       "    </tr>\n",
       "  </tbody>\n",
       "</table>\n",
       "</div>"
      ],
      "text/plain": [
       "                                                TEXT1  \\\n",
       "8   AGRAVO  REGIMENTAL NO PEDIDO SUSPENSIVO. LEGIT...   \n",
       "9   AGRAVO  REGIMENTAL NO PEDIDO SUSPENSIVO. LEGIT...   \n",
       "11  AGRAVO REGIMENTAL NOS EMBARGOS DE DECLARAÇÃO N...   \n",
       "13  DIREITO CIVIL E DO CONSUMIDOR. AGRAVO NO RECUR...   \n",
       "17  CIVIL E PROCESSUAL CIVIL. BANCÁRIO. AGRAVO REG...   \n",
       "18  ADMINISTRATIVO  E  PROCESSUAL  CIVIL.  RECURSO...   \n",
       "19  ADMINISTRATIVO  E  PROCESSUAL  CIVIL.  RECURSO...   \n",
       "25  EXECUÇÃO PENAL. HABEAS CORPUS SUBSTITUTIVO DE ...   \n",
       "43  ADMINISTRATIVO. MANDADO DE SEGURANÇA. PROCESSO...   \n",
       "47  AGRAVO REGIMENTAL. AGRAVO EM RECURSO ESPECIAL....   \n",
       "48  CONTRATO BANCÁRIO. AGRAVO REGIMENTAL NO RECURS...   \n",
       "51  RECURSO ESPECIAL - PROPRIEDADE INDUSTRIAL - DI...   \n",
       "52  RECURSO EM HABEAS CORPUS. TRÁFICO DE DROGAS E ...   \n",
       "56  AGRAVO REGIMENTAL EM AGRAVO DE INSTRUMENTO. CI...   \n",
       "59  AGRAVO REGIMENTAL NO RECURSO ESPECIAL. CIVIL E...   \n",
       "60  ADMINISTRATIVO - PROCESSO ADMINISTRATIVO DISCI...   \n",
       "61  ADMINISTRATIVO - PROCESSO ADMINISTRATIVO DISCI...   \n",
       "62  ADMINISTRATIVO. ENERGIA ELÉTRICA.  INTERRUPÇÃO...   \n",
       "64           Data da Publicação/Fonte\\nDJe 06/12/2010   \n",
       "65           Data da Publicação/Fonte\\nDJe 06/12/2010   \n",
       "69  AGRAVO REGIMENTAL EM RECURSO ESPECIAL. DIREITO...   \n",
       "70  ADMINISTRATIVO.    CÓDIGO    DE    TRÂNSITO   ...   \n",
       "71  ADMINISTRATIVO.    CÓDIGO    DE    TRÂNSITO   ...   \n",
       "72  ADMINISTRATIVO  E  PROCESSUAL  CIVIL.  AGRAVO ...   \n",
       "74  RECURSO ORDINÁRIO EM MANDADO DE SEGURANÇA. ORD...   \n",
       "87  AGRAVO  INTERNO NO AGRAVO (ART. 544 DO CPC/73)...   \n",
       "88  DIREITO DO CONSUMIDOR. ARBITRAGEM. RECURSO ESP...   \n",
       "90  ADMINISTRATIVO E PROCESSUAL CIVIL. EMBARGOS DE...   \n",
       "93  ADMINISTRATIVO E PROCESSUAL CIVIL. AGRAVO INTE...   \n",
       "94  EMBARGOS DE DECLARAÇÃO. AGRAVO REGIMENTAL. AGR...   \n",
       "95  PROCESSUAL  CIVIL.  ADMINISTRATIVO.  MANDADO  ...   \n",
       "96  AGRAVO REGIMENTAL NO AGRAVO EM RECURSO ESPECIA...   \n",
       "\n",
       "                                                TEXT2  SIMILARITY_SCORE  \\\n",
       "8   AGRAVO REGIMENTAL NO AGRAVO REGIMENTAL. SUSPEN...                 1   \n",
       "9   AGRAVO REGIMENTAL NO AGRAVO REGIMENTAL. SUSPEN...                 4   \n",
       "11  RECURSO ESPECIAL. CIVIL. INCORPORAÇÃO IMOBILIÁ...                 3   \n",
       "13  PENAL.   HABEAS   CORPUS   SUBSTITUTIVO  DE  R...                 0   \n",
       "17  AGRAVO REGIMENTAL NO AGRAVO EM RECURSO ESPECIA...                 2   \n",
       "18  PROCESSUAL  CIVIL.  AGRAVO  REGIMENTAL NO RECU...                 1   \n",
       "19  PROCESSUAL  CIVIL.  AGRAVO  REGIMENTAL NO RECU...                 2   \n",
       "25  HABEAS CORPUS SUBSTITUTIVO DE RECURSO ORDINÁRI...                 3   \n",
       "43  PROCESSUAL CIVIL. ADMINISTRATIVO. DANOS AMBIEN...                 0   \n",
       "47  PROCESSUAL CIVIL. LOCAÇÃO. AÇÃO DE DESPEJO. AP...                 4   \n",
       "48  CIVIL E PROCESSUAL. AGRAVO REGIMENTAL. AGRAVO ...                 2   \n",
       "51  PENAL. PROCESSUAL PENAL. HABEAS CORPUS SUBSTIT...                 0   \n",
       "52  HABEAS CORPUS. ARTS. 33 E 35 DA LEI Nº 11.343/...                 2   \n",
       "56  AGRAVO REGIMENTAL NO AGRAVO (ART. 544 DO CPC) ...                 3   \n",
       "59  AGRAVO  INTERNO  NO RECURSO ESPECIAL. AÇÃO ORD...                 1   \n",
       "60  DIREITO PROCESSUAL CIVIL E ADMINISTRATIVO - EM...                 3   \n",
       "61  DIREITO PROCESSUAL CIVIL E ADMINISTRATIVO - EM...                 0   \n",
       "62  ADMINISTRATIVO. FORNECIMENTO DE ÁGUA. ALEGAÇÃO...                 2   \n",
       "64  AGRAVO REGIMENTAL. RECURSO ESPECIAL. LOCAÇÃO. ...                 0   \n",
       "65  AGRAVO REGIMENTAL. RECURSO ESPECIAL. LOCAÇÃO. ...                 0   \n",
       "69  PROCESSUAL CIVIL. AGRAVO REGIMENTAL NO AGRAVO ...                 1   \n",
       "70  PROCESSUAL  CIVIL E ADMINISTRATIVO. CARTEIRA N...                 3   \n",
       "71  PROCESSUAL  CIVIL E ADMINISTRATIVO. CARTEIRA N...                 3   \n",
       "72  CHEQUE. CAUÇÃO. CAUSA DEBENDI. POSSIBILIDADE\\n...                 0   \n",
       "74  AGRAVO REGIMENTAL NO AGRAVO EM RECURSO ESPECIA...                 0   \n",
       "87  PROCESSUAL CIVIL. AGRAVO INTERNO NO AGRAVO EM ...                 3   \n",
       "88  AGRAVO INTERNO NO AGRAVO INTERNO NO AGRAVO EM ...                 1   \n",
       "90  ADMINISTRATIVO. PROCESSO ADMINISTRATIVO DISCIP...                 0   \n",
       "93  RECURSO ESPECIAL. AÇÃO DE REGRESSO. CHEQUE PÓS...                 0   \n",
       "94  PROCESSUAL CIVIL. AGRAVO REGIMENTAL NO AGRAVO ...                 4   \n",
       "95  ADMINISTRATIVO.  AGRAVO INTERNO EM MANDADO DE ...                 3   \n",
       "96  AGRAVO REGIMENTAL NO AGRAVO EM RECURSO ESPECIA...                 4   \n",
       "\n",
       "    SIMILARITY_CONFIDENCE                                    TEXT1_HIGHLIGHT  \\\n",
       "8                       4               entendimento pacificado neste Corte,   \n",
       "9                       4  Conforme  entendimento pacificado neste Corte,...   \n",
       "11                      4  A abusividade da pactuação deve ser cabalmente...   \n",
       "13                      4                                    Não relacionado   \n",
       "17                      4  A taxa média de mercado apurada pelo Banco Cen...   \n",
       "18                      4  lesão causada ao meio ambiente\\npermite  a  cu...   \n",
       "19                      4  A  responsabilidade  pelos  atos  que  desresp...   \n",
       "25                      4                       HABEAS CORPUS NÃO CONHECIDO.   \n",
       "43                      4  1. A prova produzida em ação penal pode ser us...   \n",
       "47                      4  2. O recurso de apelação que ataca sentença pr...   \n",
       "48                      3  . É abusiva, na espécie, a cláusula contratual...   \n",
       "51                      4  RECURSO ESPECIAL - PROPRIEDADE INDUSTRIAL - DI...   \n",
       "52                      3  Para  a  configuração  do crime de associação ...   \n",
       "56                      3  LIMITAÇÃO TAXA DE JUROS REMUNERATÓRIOS COBRADA...   \n",
       "59                      3  NEGATIVA   DE  PRESTAÇÃO  JURISDICIONAL  NÃO  ...   \n",
       "60                      3  A prática de atos de mero impulso processual, ...   \n",
       "61                      4  PROCESSO ADMINISTRATIVO DISCIPLINAR - POLICIAL...   \n",
       "62                      3  Não há que se proceder à suspensão da energia ...   \n",
       "64                      0                                      não se aplica   \n",
       "65                      0  Não analisado. Erro na Ementa do texto. Aparec...   \n",
       "69                      3  2. O apontamento indevido de título de dívida ...   \n",
       "70                      2  no sentido de que a\\ninfração de trânsito cons...   \n",
       "71                      3  Nesse   sentido:   STJ,  REsp  1.655.350/RS,  ...   \n",
       "72                      4  Acerca  da inversão do ônus da prova, a Corte ...   \n",
       "74                      4  A incompetência da autoridade não foi reconhec...   \n",
       "87                      2  4. O entendimento firmado pela Corte estadual ...   \n",
       "88                      3                 DIREITO DO CONSUMIDOR. ARBITRAGEM.   \n",
       "90                      3  A adoção de jurisprudência desta Corte Superio...   \n",
       "93                      4  Na origem, trata-se de Agravo de Instrumento, ...   \n",
       "94                      4  EMBARGOS DE DECLARAÇÃO. AGRAVO REGIMENTAL. AGR...   \n",
       "95                      4  PROCESSUAL  CIVIL.  ADMINISTRATIVO.  MANDADO  ...   \n",
       "96                      4  AGRAVO REGIMENTAL NO AGRAVO EM RECURSO ESPECIA...   \n",
       "\n",
       "   TEXT1_HIGHLIGHT_POSITION  \\\n",
       "8                     Corpo   \n",
       "9                     Corpo   \n",
       "11                    Corpo   \n",
       "13                    Corpo   \n",
       "17                    Corpo   \n",
       "18                    Corpo   \n",
       "19                    Corpo   \n",
       "25                Cabeçalho   \n",
       "43                    Corpo   \n",
       "47                    Corpo   \n",
       "48                    Corpo   \n",
       "51                Cabeçalho   \n",
       "52                    Corpo   \n",
       "56                Cabeçalho   \n",
       "59                Cabeçalho   \n",
       "60                    Corpo   \n",
       "61                Cabeçalho   \n",
       "62                    Corpo   \n",
       "64                Cabeçalho   \n",
       "65                Cabeçalho   \n",
       "69                    Corpo   \n",
       "70                    Corpo   \n",
       "71                    Corpo   \n",
       "72                    Corpo   \n",
       "74                    Corpo   \n",
       "87                    Corpo   \n",
       "88                Cabeçalho   \n",
       "90                    Corpo   \n",
       "93                    Corpo   \n",
       "94                Cabeçalho   \n",
       "95                Cabeçalho   \n",
       "96                Cabeçalho   \n",
       "\n",
       "                                      TEXT2_HIGHLIGHT TEXT2_HIGHLIGHT_POSITION  \n",
       "8          A jurisprudência já assentou entendimento                     Corpo  \n",
       "9   A jurisprudência já assentou entendimento no s...                    Corpo  \n",
       "11  Todavia, a autorização de alienação do imóvel ...                    Corpo  \n",
       "13                                    Não relacionado                    Corpo  \n",
       "17  as instituições financeiras não se sujeitam à ...                    Corpo  \n",
       "18  A  cobrança  indevida  de  serviço  de telefon...                    Corpo  \n",
       "19    cobrança  indevida  de  serviço  de telefoni...                    Corpo  \n",
       "25                  HABEAS CORPUS CONCEDIDA DE OFÍCIO                Cabeçalho  \n",
       "43  0. Deveras, o Tribunal  a quo à luz de ampla c...                    Corpo  \n",
       "47  I - O Superior Tribunal de Justiça já pacifico...                    Corpo  \n",
       "48   É inválida a emissão pelo credor de letra de ...                    Corpo  \n",
       "51  PENAL. PROCESSUAL PENAL. HABEAS CORPUS SUBSTIT...                Cabeçalho  \n",
       "52   A periculosidade concreta do paciente a justi...                    Corpo  \n",
       "56  A circunstância de a taxa de juros remuneratór...                    Corpo  \n",
       "59  AÇÃO ORDINÁRIA. COMPROMISSO DE COMPRA  E  VEND...                Cabeçalho  \n",
       "60  \"o deferimento de provimento judicial liminar ...                    Corpo  \n",
       "61  DIREITO PROCESSUAL CIVIL E ADMINISTRATIVO - EM...                Cabeçalho  \n",
       "62   Nos termos da jurisprudência desta Corte, é i...                    Corpo  \n",
       "64                                      não se aplica                Cabeçalho  \n",
       "65  Não analisado. Erro na Ementa do texto. Aparec...                Cabeçalho  \n",
       "69  1. Tendo o Tribunal de origem registrado que a...                    Corpo  \n",
       "70  O  Superior Tribunal de Justiça entende ser po...                    Corpo  \n",
       "71  2.  O  Superior Tribunal de Justiça entende se...                    Corpo  \n",
       "72  Não é razoável em cheque dado como caução para...                    Corpo  \n",
       "74  A instituição de ensino deve indenizar o aluno...                    Corpo  \n",
       "87  PROCESSUAL CIVIL. AGRAVO INTERNO NO AGRAVO EM ...                Cabeçalho  \n",
       "88     RELAÇÃO\\nDE CONSUMO. CONVENÇÃO DE ARBITRAGEM.                 Cabeçalho  \n",
       "90  A Lei n. 8.112/90, em seu art. 142, § 2º, disp...                    Corpo  \n",
       "93  O entendimento firmado pelo Tribunal a quo - n...                    Corpo  \n",
       "94  PROCESSUAL CIVIL. AGRAVO REGIMENTAL NO AGRAVO ...                Cabeçalho  \n",
       "95  ADMINISTRATIVO.  AGRAVO INTERNO EM MANDADO DE ...                Cabeçalho  \n",
       "96  AGRAVO REGIMENTAL NO AGRAVO EM RECURSO ESPECIA...                Cabeçalho  "
      ]
     },
     "execution_count": 42,
     "metadata": {},
     "output_type": "execute_result"
    }
   ],
   "source": [
    "survey_agreement = survey.iloc[[x.Index for x in survey_tmp.itertuples() if type(x.SIMILARITY_SCORE) == int]]\n",
    "survey_agreement"
   ]
  },
  {
   "cell_type": "markdown",
   "metadata": {
    "pycharm": {
     "name": "#%% md\n"
    }
   },
   "source": [
    "### 1. Quão relacionadas estão os rótulos dos especialistas para um mesmo par de documentos?"
   ]
  },
  {
   "cell_type": "markdown",
   "metadata": {
    "pycharm": {
     "name": "#%% md\n"
    }
   },
   "source": [
    "- Dos 100 pares de documentos anotados por 2 anotadores, 32 pares foram anotados em concordância entre os 2 anotadores. Logo 68 pares de documentos foram rotulados de maneiras distintas pelos 2 anotadores."
   ]
  },
  {
   "cell_type": "code",
   "execution_count": 43,
   "metadata": {
    "pycharm": {
     "name": "#%%\n"
    }
   },
   "outputs": [
    {
     "name": "stdout",
     "output_type": "stream",
     "text": [
      "Pares anotados em concordância:  32\n"
     ]
    }
   ],
   "source": [
    "print(\"Pares anotados em concordância: \", len(survey_agreement))"
   ]
  },
  {
   "cell_type": "markdown",
   "metadata": {
    "pycharm": {
     "name": "#%% md\n"
    }
   },
   "source": [
    "#### Com relação aos dados anotados em divergência"
   ]
  },
  {
   "cell_type": "code",
   "execution_count": 44,
   "metadata": {
    "pycharm": {
     "name": "#%%\n"
    }
   },
   "outputs": [
    {
     "name": "stdout",
     "output_type": "stream",
     "text": [
      "Média da distância da divergência:  1.6323529411764706 \n",
      "Variância da distância da divergência:  0.5854238754325259 \n",
      "Desvio padrão da distância da divergência:  0.7651299729016803\n"
     ]
    }
   ],
   "source": [
    "tmp = np.array([t.tolist() for t in survey_discrepancy.SIMILARITY_SCORE.values])\n",
    "distances_in_discrepancy = [abs(t[0]-t[1]) for t in tmp]\n",
    "mean = np.mean(distances_in_discrepancy)\n",
    "mean_variance = np.var(distances_in_discrepancy)\n",
    "mean_std = np.std(distances_in_discrepancy)\n",
    "print('Média da distância da divergência: ', mean, \n",
    "      '\\nVariância da distância da divergência: ', mean_variance, \n",
    "      '\\nDesvio padrão da distância da divergência: ', mean_std)"
   ]
  },
  {
   "cell_type": "code",
   "execution_count": 45,
   "metadata": {
    "pycharm": {
     "name": "#%%\n"
    }
   },
   "outputs": [
    {
     "data": {
      "text/plain": [
       "PearsonRResult(statistic=0.6275219717755693, pvalue=1.0239019504403163e-08)"
      ]
     },
     "execution_count": 45,
     "metadata": {},
     "output_type": "execute_result"
    }
   ],
   "source": [
    "stats.pearsonr(tmp[:,0], tmp[:,1]) #(Pearson’s correlation coefficient, 2-tailed p-value)"
   ]
  },
  {
   "cell_type": "code",
   "execution_count": 46,
   "metadata": {
    "pycharm": {
     "name": "#%%\n"
    }
   },
   "outputs": [
    {
     "data": {
      "text/plain": [
       "SpearmanrResult(correlation=0.6045049720354123, pvalue=4.792430706079734e-08)"
      ]
     },
     "execution_count": 46,
     "metadata": {},
     "output_type": "execute_result"
    }
   ],
   "source": [
    "stats.spearmanr(tmp[:,0], tmp[:,1]) #(Pearson’s correlation coefficient, 2-tailed p-value)"
   ]
  },
  {
   "cell_type": "code",
   "execution_count": 47,
   "metadata": {
    "pycharm": {
     "name": "#%%\n"
    }
   },
   "outputs": [
    {
     "name": "stdout",
     "output_type": "stream",
     "text": [
      "Krippendorff's alpha for interval metric:  -0.12132145675949935\n"
     ]
    }
   ],
   "source": [
    "print(\"Krippendorff's alpha for interval metric: \", krippendorff.alpha(reliability_data=[tmp[:,0].tolist(),tmp[:,1].tolist()]))"
   ]
  },
  {
   "cell_type": "code",
   "execution_count": 48,
   "metadata": {
    "pycharm": {
     "name": "#%%\n"
    }
   },
   "outputs": [
    {
     "data": {
      "image/png": "[encoded data removed]",
      "text/plain": [
       "<Figure size 640x480 with 1 Axes>"
      ]
     },
     "metadata": {},
     "output_type": "display_data"
    }
   ],
   "source": [
    "plt.hist(distances_in_discrepancy, bins = [0, 1, 2, 3, 4])\n",
    "\n",
    "plt.title(\"Histograma das distância entre rótulos, entre os dados anotados em divergência\")\n",
    "plt.show()"
   ]
  },
  {
   "cell_type": "markdown",
   "metadata": {
    "pycharm": {
     "name": "#%% md\n"
    }
   },
   "source": [
    "#### Análise da distância entre divergências dos especialistas em extratos de interesse\n",
    "Uma inconsistência de anotação entre especialistas onde um atribui uma alta similaridade e outro uma similaridade baixa ou neutra (o mesmo vale para não similaridade) pode ser vista como uma divergência parcial. Já no caso onde um especialista acha que o par de documentos é similar e o outro acha que não são similares pode ser visto como uma divergência total. \n",
    "Nessa pesquisa, os casos onde a discrepância de rótulos é tal que os rótulos de um par de documento estejam entre (0,1 e 2) ou entre (2,3 e 4) são casos de divergência parcial. Agora casos onde um especialista atribui um rótulo (0,1) e outro (3,4) é uma divergência total. "
   ]
  },
  {
   "cell_type": "code",
   "execution_count": 49,
   "metadata": {
    "collapsed": false,
    "jupyter": {
     "outputs_hidden": false
    },
    "pycharm": {
     "name": "#%%\n"
    }
   },
   "outputs": [
    {
     "name": "stdout",
     "output_type": "stream",
     "text": [
      "Total de divergências parciais sobre não similaridade:  28 - Distância média:  1.1071428571428572\n",
      "Total de divergências parciais sobre similaridade:  18 - Distância média:  1.3333333333333333\n",
      "Total de divergências totais:  22 - Distância média:  2.5454545454545454\n"
     ]
    }
   ],
   "source": [
    "d_non_similar = []\n",
    "d_similar = []\n",
    "d_incons = []\n",
    "for d in [t.tolist() for t in survey_discrepancy.SIMILARITY_SCORE.values]:\n",
    "    if d[0] in [0,1,2] and d[1] in [0,1,2]:\n",
    "        d_non_similar.append(d)\n",
    "    elif (d[0] in [2,3,4] and d[1] in [2,3,4]):\n",
    "        d_similar.append(d)\n",
    "    elif (d[0] in [0,1] and d[1] in [3,4]) or (d[1] in [0,1] and d[0] in [3,4]):\n",
    "        d_incons.append(d)\n",
    "\n",
    "print('Total de divergências parciais sobre não similaridade: ', len(d_non_similar), \"- Distância média: \",np.mean([abs(t[0]-t[1]) for t in d_non_similar]))\n",
    "print('Total de divergências parciais sobre similaridade: ', len(d_similar), \"- Distância média: \",np.mean([abs(t[0]-t[1]) for t in d_similar]))\n",
    "print('Total de divergências totais: ', len(d_incons), \"- Distância média: \",np.mean([abs(t[0]-t[1]) for t in d_incons]))\n"
   ]
  },
  {
   "cell_type": "markdown",
   "metadata": {
    "pycharm": {
     "name": "#%% md\n"
    }
   },
   "source": [
    "### 2. Onde estão concentrados os trechos principais dos documentos, corpo ou cabeçalho?"
   ]
  },
  {
   "cell_type": "markdown",
   "metadata": {
    "pycharm": {
     "name": "#%% md\n"
    }
   },
   "source": [
    "Agrupando os destaques do primeiro e do segundo documento do par."
   ]
  },
  {
   "cell_type": "code",
   "execution_count": 50,
   "metadata": {
    "collapsed": false,
    "jupyter": {
     "outputs_hidden": false
    },
    "pycharm": {
     "name": "#%%\n"
    }
   },
   "outputs": [
    {
     "data": {
      "text/plain": [
       "<AxesSubplot:ylabel='None'>"
      ]
     },
     "execution_count": 50,
     "metadata": {},
     "output_type": "execute_result"
    },
    {
     "data": {
      "image/png": "[encoded data removed]",
      "text/plain": [
       "<Figure size 640x480 with 1 Axes>"
      ]
     },
     "metadata": {},
     "output_type": "display_data"
    }
   ],
   "source": [
    "pd.concat([survey.TEXT1_HIGHLIGHT_POSITION, survey.TEXT2_HIGHLIGHT_POSITION]).value_counts().sort_values()\\\n",
    "    .plot.pie(legend=False,autopct='%1.1f%%', shadow=True, startangle=0)"
   ]
  },
  {
   "cell_type": "markdown",
   "metadata": {
    "pycharm": {
     "name": "#%% md\n"
    }
   },
   "source": [
    "A posição dos destaques em cada documento do par é a mesma?"
   ]
  },
  {
   "cell_type": "code",
   "execution_count": 51,
   "metadata": {
    "collapsed": false,
    "jupyter": {
     "outputs_hidden": false
    },
    "pycharm": {
     "name": "#%%\n"
    }
   },
   "outputs": [
    {
     "data": {
      "text/plain": [
       "True     199\n",
       "False     41\n",
       "dtype: int64"
      ]
     },
     "execution_count": 51,
     "metadata": {},
     "output_type": "execute_result"
    }
   ],
   "source": [
    "(survey['TEXT1_HIGHLIGHT_POSITION'] == survey['TEXT2_HIGHLIGHT_POSITION']).value_counts()"
   ]
  },
  {
   "cell_type": "markdown",
   "metadata": {
    "pycharm": {
     "name": "#%% md\n"
    }
   },
   "source": [
    "### 3. Qual a distribuição dos rótulos no conjunto de dados anotado pelos especialistas?\n",
    "\n",
    "Levando em consideração apenas os dados anotados em concordância"
   ]
  },
  {
   "cell_type": "code",
   "execution_count": 52,
   "metadata": {
    "collapsed": false,
    "jupyter": {
     "outputs_hidden": false
    },
    "pycharm": {
     "name": "#%%\n"
    }
   },
   "outputs": [
    {
     "name": "stdout",
     "output_type": "stream",
     "text": [
      "Distribuição dos rótulos entre os pares anotados em concordância\n"
     ]
    },
    {
     "data": {
      "text/plain": [
       "<AxesSubplot:xlabel='Rótulos', ylabel='Quantidade'>"
      ]
     },
     "execution_count": 52,
     "metadata": {},
     "output_type": "execute_result"
    },
    {
     "data": {
      "image/png": "[encoded data removed]",
      "text/plain": [
       "<Figure size 640x480 with 1 Axes>"
      ]
     },
     "metadata": {},
     "output_type": "display_data"
    }
   ],
   "source": [
    "print(\"Distribuição dos rótulos entre os pares anotados em concordância\")\n",
    "survey_agreement['SIMILARITY_SCORE'].value_counts().sort_index().plot(kind = 'bar', xlabel='Rótulos', ylabel='Quantidade')"
   ]
  },
  {
   "cell_type": "markdown",
   "metadata": {
    "pycharm": {
     "name": "#%% md\n"
    }
   },
   "source": [
    "Juntando as similaridades dos extremos para facilitar a comparação com os dados da heurística"
   ]
  },
  {
   "cell_type": "code",
   "execution_count": 53,
   "metadata": {
    "collapsed": false,
    "jupyter": {
     "outputs_hidden": false
    },
    "pycharm": {
     "name": "#%%\n"
    }
   },
   "outputs": [
    {
     "data": {
      "text/plain": [
       "<AxesSubplot:xlabel='Rótulos', ylabel='Quantidade'>"
      ]
     },
     "execution_count": 53,
     "metadata": {},
     "output_type": "execute_result"
    },
    {
     "data": {
      "image/png": "[encoded data removed]",
      "text/plain": [
       "<Figure size 640x480 with 1 Axes>"
      ]
     },
     "metadata": {},
     "output_type": "display_data"
    }
   ],
   "source": [
    "tmp_value_cnt = survey_agreement['SIMILARITY_SCORE'].value_counts()\n",
    "dict = {'0-1': tmp_value_cnt[0]+tmp_value_cnt[1],\n",
    "        '2': tmp_value_cnt[2],\n",
    "        '3-4': tmp_value_cnt[3]+tmp_value_cnt[4]}\n",
    "pd.Series(dict).plot(kind = 'bar', xlabel='Rótulos', ylabel='Quantidade')"
   ]
  },
  {
   "cell_type": "code",
   "execution_count": 54,
   "metadata": {
    "collapsed": false,
    "jupyter": {
     "outputs_hidden": false
    },
    "pycharm": {
     "name": "#%%\n"
    }
   },
   "outputs": [
    {
     "data": {
      "text/plain": [
       "<AxesSubplot:ylabel='SIMILARITY_SCORE'>"
      ]
     },
     "execution_count": 54,
     "metadata": {},
     "output_type": "execute_result"
    },
    {
     "data": {
      "image/png": "[encoded data removed]",
      "text/plain": [
       "<Figure size 640x480 with 1 Axes>"
      ]
     },
     "metadata": {},
     "output_type": "display_data"
    }
   ],
   "source": [
    "survey_agreement['SIMILARITY_SCORE'].value_counts().sort_values().plot.pie(legend=False, \\\n",
    "                   autopct='%1.1f%%', \\\n",
    "                   shadow=True, startangle=0)"
   ]
  },
  {
   "cell_type": "markdown",
   "metadata": {
    "pycharm": {
     "name": "#%% md\n"
    }
   },
   "source": [
    "### 4. Qual a distribuição dos rótulos no conjunto de dados anotado heuristicamente?"
   ]
  },
  {
   "cell_type": "code",
   "execution_count": 55,
   "metadata": {
    "collapsed": false,
    "jupyter": {
     "outputs_hidden": false
    },
    "pycharm": {
     "name": "#%%\n"
    }
   },
   "outputs": [
    {
     "data": {
      "text/plain": [
       "<AxesSubplot:xlabel='Rótulos', ylabel='Quantidade'>"
      ]
     },
     "execution_count": 55,
     "metadata": {},
     "output_type": "execute_result"
    },
    {
     "data": {
      "image/png": "[encoded data removed]",
      "text/plain": [
       "<Figure size 640x480 with 1 Axes>"
      ]
     },
     "metadata": {},
     "output_type": "display_data"
    }
   ],
   "source": [
    "heuristic['score'].value_counts().sort_index().plot(kind = 'bar', xlabel='Rótulos', ylabel='Quantidade')"
   ]
  },
  {
   "cell_type": "code",
   "execution_count": 56,
   "metadata": {
    "pycharm": {
     "name": "#%%\n"
    }
   },
   "outputs": [
    {
     "data": {
      "text/plain": [
       "<AxesSubplot:xlabel='Rótulos', ylabel='Quantidade'>"
      ]
     },
     "execution_count": 56,
     "metadata": {},
     "output_type": "execute_result"
    },
    {
     "data": {
      "image/png": "[encoded data removed]",
      "text/plain": [
       "<Figure size 640x480 with 1 Axes>"
      ]
     },
     "metadata": {},
     "output_type": "display_data"
    }
   ],
   "source": [
    "tmp_value_cnt = survey_agreement['SIMILARITY_SCORE'].value_counts()\n",
    "dict = {'0-1': tmp_value_cnt[0]+tmp_value_cnt[1],\n",
    "        '2': tmp_value_cnt[2],\n",
    "        '3-4': tmp_value_cnt[3]+tmp_value_cnt[4]}\n",
    "pd.Series(dict).plot(kind = 'bar', xlabel='Rótulos', ylabel='Quantidade')"
   ]
  },
  {
   "cell_type": "code",
   "execution_count": 57,
   "metadata": {
    "pycharm": {
     "name": "#%%\n"
    }
   },
   "outputs": [
    {
     "data": {
      "text/plain": [
       "<AxesSubplot:ylabel='SIMILARITY_SCORE'>"
      ]
     },
     "execution_count": 57,
     "metadata": {},
     "output_type": "execute_result"
    },
    {
     "data": {
      "image/png": "[encoded data removed]",
      "text/plain": [
       "<Figure size 640x480 with 1 Axes>"
      ]
     },
     "metadata": {},
     "output_type": "display_data"
    }
   ],
   "source": [
    "survey_agreement['SIMILARITY_SCORE'].value_counts().sort_values().plot.pie(legend=False, \\\n",
    "                   autopct='%1.1f%%', \\\n",
    "                   shadow=True, startangle=0)"
   ]
  },
  {
   "cell_type": "markdown",
   "metadata": {
    "pycharm": {
     "name": "#%% md\n"
    }
   },
   "source": [
    "### 4. Qual a distribuição dos rótulos no conjunto de dados anotado heuristicamente?"
   ]
  },
  {
   "cell_type": "code",
   "execution_count": 58,
   "metadata": {
    "pycharm": {
     "name": "#%%\n"
    }
   },
   "outputs": [
    {
     "data": {
      "text/plain": [
       "<AxesSubplot:xlabel='Rótulos', ylabel='Quantidade'>"
      ]
     },
     "execution_count": 58,
     "metadata": {},
     "output_type": "execute_result"
    },
    {
     "data": {
      "image/png": "[encoded data removed]",
      "text/plain": [
       "<Figure size 640x480 with 1 Axes>"
      ]
     },
     "metadata": {},
     "output_type": "display_data"
    }
   ],
   "source": [
    "heuristic['score'].value_counts().sort_index().plot(kind = 'bar', xlabel='Rótulos', ylabel='Quantidade')"
   ]
  },
  {
   "cell_type": "code",
   "execution_count": 59,
   "metadata": {
    "pycharm": {
     "name": "#%%\n"
    }
   },
   "outputs": [
    {
     "data": {
      "text/plain": [
       "<AxesSubplot:ylabel='score'>"
      ]
     },
     "execution_count": 59,
     "metadata": {},
     "output_type": "execute_result"
    },
    {
     "data": {
      "image/png": "[encoded data removed]",
      "text/plain": [
       "<Figure size 640x480 with 1 Axes>"
      ]
     },
     "metadata": {},
     "output_type": "display_data"
    }
   ],
   "source": [
    "heuristic['score'].value_counts().sort_values().plot.pie( legend=False, \\\n",
    "                   autopct='%1.1f%%', \\\n",
    "                   shadow=True, startangle=0)"
   ]
  },
  {
   "cell_type": "markdown",
   "metadata": {
    "pycharm": {
     "name": "#%% md\n"
    }
   },
   "source": [
    "### 5. Quão relacionados estão os rótulos dos especialistas e da heurística?\n",
    "Considerando apenas os rótulos em concordância:"
   ]
  },
  {
   "cell_type": "code",
   "execution_count": 60,
   "metadata": {
    "pycharm": {
     "name": "#%%\n"
    }
   },
   "outputs": [
    {
     "data": {
      "text/html": [
       "<div>\n",
       "<style scoped>\n",
       "    .dataframe tbody tr th:only-of-type {\n",
       "        vertical-align: middle;\n",
       "    }\n",
       "\n",
       "    .dataframe tbody tr th {\n",
       "        vertical-align: top;\n",
       "    }\n",
       "\n",
       "    .dataframe thead th {\n",
       "        text-align: right;\n",
       "    }\n",
       "</style>\n",
       "<table border=\"1\" class=\"dataframe\">\n",
       "  <thead>\n",
       "    <tr style=\"text-align: right;\">\n",
       "      <th></th>\n",
       "      <th>sentence_A</th>\n",
       "      <th>sentence_B</th>\n",
       "      <th>score</th>\n",
       "      <th>TEXT1</th>\n",
       "      <th>TEXT2</th>\n",
       "      <th>SIMILARITY_SCORE</th>\n",
       "    </tr>\n",
       "  </thead>\n",
       "  <tbody>\n",
       "    <tr>\n",
       "      <th>34</th>\n",
       "      <td>AGRAVO  REGIMENTAL NO PEDIDO SUSPENSIVO. LEGIT...</td>\n",
       "      <td>AGRAVO REGIMENTAL NO AGRAVO REGIMENTAL. SUSPEN...</td>\n",
       "      <td>4</td>\n",
       "      <td>AGRAVO  REGIMENTAL NO PEDIDO SUSPENSIVO. LEGIT...</td>\n",
       "      <td>AGRAVO REGIMENTAL NO AGRAVO REGIMENTAL. SUSPEN...</td>\n",
       "      <td>1.0</td>\n",
       "    </tr>\n",
       "    <tr>\n",
       "      <th>35</th>\n",
       "      <td>AGRAVO  REGIMENTAL NO PEDIDO SUSPENSIVO. LEGIT...</td>\n",
       "      <td>AGRAVO REGIMENTAL NO AGRAVO REGIMENTAL. SUSPEN...</td>\n",
       "      <td>4</td>\n",
       "      <td>AGRAVO  REGIMENTAL NO PEDIDO SUSPENSIVO. LEGIT...</td>\n",
       "      <td>AGRAVO REGIMENTAL NO AGRAVO REGIMENTAL. SUSPEN...</td>\n",
       "      <td>4.0</td>\n",
       "    </tr>\n",
       "    <tr>\n",
       "      <th>36</th>\n",
       "      <td>AGRAVO REGIMENTAL NOS EMBARGOS DE DECLARAÇÃO N...</td>\n",
       "      <td>RECURSO ESPECIAL. CIVIL. INCORPORAÇÃO IMOBILIÁ...</td>\n",
       "      <td>2</td>\n",
       "      <td>AGRAVO REGIMENTAL NOS EMBARGOS DE DECLARAÇÃO N...</td>\n",
       "      <td>RECURSO ESPECIAL. CIVIL. INCORPORAÇÃO IMOBILIÁ...</td>\n",
       "      <td>3.0</td>\n",
       "    </tr>\n",
       "    <tr>\n",
       "      <th>37</th>\n",
       "      <td>DIREITO CIVIL E DO CONSUMIDOR. AGRAVO NO RECUR...</td>\n",
       "      <td>PENAL.   HABEAS   CORPUS   SUBSTITUTIVO  DE  R...</td>\n",
       "      <td>0</td>\n",
       "      <td>DIREITO CIVIL E DO CONSUMIDOR. AGRAVO NO RECUR...</td>\n",
       "      <td>PENAL.   HABEAS   CORPUS   SUBSTITUTIVO  DE  R...</td>\n",
       "      <td>0.0</td>\n",
       "    </tr>\n",
       "    <tr>\n",
       "      <th>39</th>\n",
       "      <td>CIVIL E PROCESSUAL CIVIL. BANCÁRIO. AGRAVO REG...</td>\n",
       "      <td>AGRAVO REGIMENTAL NO AGRAVO EM RECURSO ESPECIA...</td>\n",
       "      <td>4</td>\n",
       "      <td>CIVIL E PROCESSUAL CIVIL. BANCÁRIO. AGRAVO REG...</td>\n",
       "      <td>AGRAVO REGIMENTAL NO AGRAVO EM RECURSO ESPECIA...</td>\n",
       "      <td>2.0</td>\n",
       "    </tr>\n",
       "    <tr>\n",
       "      <th>40</th>\n",
       "      <td>ADMINISTRATIVO  E  PROCESSUAL  CIVIL.  RECURSO...</td>\n",
       "      <td>PROCESSUAL  CIVIL.  AGRAVO  REGIMENTAL NO RECU...</td>\n",
       "      <td>0</td>\n",
       "      <td>ADMINISTRATIVO  E  PROCESSUAL  CIVIL.  RECURSO...</td>\n",
       "      <td>PROCESSUAL  CIVIL.  AGRAVO  REGIMENTAL NO RECU...</td>\n",
       "      <td>1.0</td>\n",
       "    </tr>\n",
       "    <tr>\n",
       "      <th>41</th>\n",
       "      <td>ADMINISTRATIVO  E  PROCESSUAL  CIVIL.  RECURSO...</td>\n",
       "      <td>PROCESSUAL  CIVIL.  AGRAVO  REGIMENTAL NO RECU...</td>\n",
       "      <td>0</td>\n",
       "      <td>ADMINISTRATIVO  E  PROCESSUAL  CIVIL.  RECURSO...</td>\n",
       "      <td>PROCESSUAL  CIVIL.  AGRAVO  REGIMENTAL NO RECU...</td>\n",
       "      <td>2.0</td>\n",
       "    </tr>\n",
       "    <tr>\n",
       "      <th>42</th>\n",
       "      <td>RECURSO ESPECIAL - PROPRIEDADE INDUSTRIAL - DI...</td>\n",
       "      <td>PENAL. PROCESSUAL PENAL. HABEAS CORPUS SUBSTIT...</td>\n",
       "      <td>0</td>\n",
       "      <td>RECURSO ESPECIAL - PROPRIEDADE INDUSTRIAL - DI...</td>\n",
       "      <td>PENAL. PROCESSUAL PENAL. HABEAS CORPUS SUBSTIT...</td>\n",
       "      <td>0.0</td>\n",
       "    </tr>\n",
       "    <tr>\n",
       "      <th>43</th>\n",
       "      <td>RECURSO EM HABEAS CORPUS. TRÁFICO DE DROGAS E ...</td>\n",
       "      <td>HABEAS CORPUS. ARTS. 33 E 35 DA LEI Nº 11.343/...</td>\n",
       "      <td>4</td>\n",
       "      <td>RECURSO EM HABEAS CORPUS. TRÁFICO DE DROGAS E ...</td>\n",
       "      <td>HABEAS CORPUS. ARTS. 33 E 35 DA LEI Nº 11.343/...</td>\n",
       "      <td>2.0</td>\n",
       "    </tr>\n",
       "    <tr>\n",
       "      <th>45</th>\n",
       "      <td>AGRAVO REGIMENTAL EM AGRAVO DE INSTRUMENTO. CI...</td>\n",
       "      <td>AGRAVO REGIMENTAL NO AGRAVO (ART. 544 DO CPC) ...</td>\n",
       "      <td>2</td>\n",
       "      <td>AGRAVO REGIMENTAL EM AGRAVO DE INSTRUMENTO. CI...</td>\n",
       "      <td>AGRAVO REGIMENTAL NO AGRAVO (ART. 544 DO CPC) ...</td>\n",
       "      <td>3.0</td>\n",
       "    </tr>\n",
       "    <tr>\n",
       "      <th>46</th>\n",
       "      <td>AGRAVO REGIMENTAL NO RECURSO ESPECIAL. CIVIL E...</td>\n",
       "      <td>AGRAVO  INTERNO  NO RECURSO ESPECIAL. AÇÃO ORD...</td>\n",
       "      <td>2</td>\n",
       "      <td>AGRAVO REGIMENTAL NO RECURSO ESPECIAL. CIVIL E...</td>\n",
       "      <td>AGRAVO  INTERNO  NO RECURSO ESPECIAL. AÇÃO ORD...</td>\n",
       "      <td>1.0</td>\n",
       "    </tr>\n",
       "    <tr>\n",
       "      <th>47</th>\n",
       "      <td>ADMINISTRATIVO - PROCESSO ADMINISTRATIVO DISCI...</td>\n",
       "      <td>DIREITO PROCESSUAL CIVIL E ADMINISTRATIVO - EM...</td>\n",
       "      <td>2</td>\n",
       "      <td>ADMINISTRATIVO - PROCESSO ADMINISTRATIVO DISCI...</td>\n",
       "      <td>DIREITO PROCESSUAL CIVIL E ADMINISTRATIVO - EM...</td>\n",
       "      <td>3.0</td>\n",
       "    </tr>\n",
       "    <tr>\n",
       "      <th>48</th>\n",
       "      <td>ADMINISTRATIVO - PROCESSO ADMINISTRATIVO DISCI...</td>\n",
       "      <td>DIREITO PROCESSUAL CIVIL E ADMINISTRATIVO - EM...</td>\n",
       "      <td>2</td>\n",
       "      <td>ADMINISTRATIVO - PROCESSO ADMINISTRATIVO DISCI...</td>\n",
       "      <td>DIREITO PROCESSUAL CIVIL E ADMINISTRATIVO - EM...</td>\n",
       "      <td>0.0</td>\n",
       "    </tr>\n",
       "    <tr>\n",
       "      <th>49</th>\n",
       "      <td>ADMINISTRATIVO. ENERGIA ELÉTRICA.  INTERRUPÇÃO...</td>\n",
       "      <td>ADMINISTRATIVO. FORNECIMENTO DE ÁGUA. ALEGAÇÃO...</td>\n",
       "      <td>2</td>\n",
       "      <td>ADMINISTRATIVO. ENERGIA ELÉTRICA.  INTERRUPÇÃO...</td>\n",
       "      <td>ADMINISTRATIVO. FORNECIMENTO DE ÁGUA. ALEGAÇÃO...</td>\n",
       "      <td>2.0</td>\n",
       "    </tr>\n",
       "    <tr>\n",
       "      <th>50</th>\n",
       "      <td>Data da Publicação/Fonte\\nDJe 06/12/2010</td>\n",
       "      <td>AGRAVO REGIMENTAL. RECURSO ESPECIAL. LOCAÇÃO. ...</td>\n",
       "      <td>4</td>\n",
       "      <td>Data da Publicação/Fonte\\nDJe 06/12/2010</td>\n",
       "      <td>AGRAVO REGIMENTAL. RECURSO ESPECIAL. LOCAÇÃO. ...</td>\n",
       "      <td>0.0</td>\n",
       "    </tr>\n",
       "    <tr>\n",
       "      <th>51</th>\n",
       "      <td>Data da Publicação/Fonte\\nDJe 06/12/2010</td>\n",
       "      <td>AGRAVO REGIMENTAL. RECURSO ESPECIAL. LOCAÇÃO. ...</td>\n",
       "      <td>4</td>\n",
       "      <td>Data da Publicação/Fonte\\nDJe 06/12/2010</td>\n",
       "      <td>AGRAVO REGIMENTAL. RECURSO ESPECIAL. LOCAÇÃO. ...</td>\n",
       "      <td>0.0</td>\n",
       "    </tr>\n",
       "    <tr>\n",
       "      <th>53</th>\n",
       "      <td>AGRAVO REGIMENTAL EM RECURSO ESPECIAL. DIREITO...</td>\n",
       "      <td>PROCESSUAL CIVIL. AGRAVO REGIMENTAL NO AGRAVO ...</td>\n",
       "      <td>2</td>\n",
       "      <td>AGRAVO REGIMENTAL EM RECURSO ESPECIAL. DIREITO...</td>\n",
       "      <td>PROCESSUAL CIVIL. AGRAVO REGIMENTAL NO AGRAVO ...</td>\n",
       "      <td>1.0</td>\n",
       "    </tr>\n",
       "    <tr>\n",
       "      <th>54</th>\n",
       "      <td>ADMINISTRATIVO.    CÓDIGO    DE    TRÂNSITO   ...</td>\n",
       "      <td>PROCESSUAL  CIVIL E ADMINISTRATIVO. CARTEIRA N...</td>\n",
       "      <td>4</td>\n",
       "      <td>ADMINISTRATIVO.    CÓDIGO    DE    TRÂNSITO   ...</td>\n",
       "      <td>PROCESSUAL  CIVIL E ADMINISTRATIVO. CARTEIRA N...</td>\n",
       "      <td>3.0</td>\n",
       "    </tr>\n",
       "    <tr>\n",
       "      <th>55</th>\n",
       "      <td>ADMINISTRATIVO.    CÓDIGO    DE    TRÂNSITO   ...</td>\n",
       "      <td>PROCESSUAL  CIVIL E ADMINISTRATIVO. CARTEIRA N...</td>\n",
       "      <td>4</td>\n",
       "      <td>ADMINISTRATIVO.    CÓDIGO    DE    TRÂNSITO   ...</td>\n",
       "      <td>PROCESSUAL  CIVIL E ADMINISTRATIVO. CARTEIRA N...</td>\n",
       "      <td>3.0</td>\n",
       "    </tr>\n",
       "    <tr>\n",
       "      <th>56</th>\n",
       "      <td>ADMINISTRATIVO  E  PROCESSUAL  CIVIL.  AGRAVO ...</td>\n",
       "      <td>CHEQUE. CAUÇÃO. CAUSA DEBENDI. POSSIBILIDADE\\n...</td>\n",
       "      <td>0</td>\n",
       "      <td>ADMINISTRATIVO  E  PROCESSUAL  CIVIL.  AGRAVO ...</td>\n",
       "      <td>CHEQUE. CAUÇÃO. CAUSA DEBENDI. POSSIBILIDADE\\n...</td>\n",
       "      <td>0.0</td>\n",
       "    </tr>\n",
       "    <tr>\n",
       "      <th>57</th>\n",
       "      <td>RECURSO ORDINÁRIO EM MANDADO DE SEGURANÇA. ORD...</td>\n",
       "      <td>AGRAVO REGIMENTAL NO AGRAVO EM RECURSO ESPECIA...</td>\n",
       "      <td>0</td>\n",
       "      <td>RECURSO ORDINÁRIO EM MANDADO DE SEGURANÇA. ORD...</td>\n",
       "      <td>AGRAVO REGIMENTAL NO AGRAVO EM RECURSO ESPECIA...</td>\n",
       "      <td>0.0</td>\n",
       "    </tr>\n",
       "    <tr>\n",
       "      <th>63</th>\n",
       "      <td>AGRAVO  INTERNO NO AGRAVO (ART. 544 DO CPC/73)...</td>\n",
       "      <td>PROCESSUAL CIVIL. AGRAVO INTERNO NO AGRAVO EM ...</td>\n",
       "      <td>2</td>\n",
       "      <td>AGRAVO  INTERNO NO AGRAVO (ART. 544 DO CPC/73)...</td>\n",
       "      <td>PROCESSUAL CIVIL. AGRAVO INTERNO NO AGRAVO EM ...</td>\n",
       "      <td>3.0</td>\n",
       "    </tr>\n",
       "    <tr>\n",
       "      <th>64</th>\n",
       "      <td>DIREITO DO CONSUMIDOR. ARBITRAGEM. RECURSO ESP...</td>\n",
       "      <td>AGRAVO INTERNO NO AGRAVO INTERNO NO AGRAVO EM ...</td>\n",
       "      <td>4</td>\n",
       "      <td>DIREITO DO CONSUMIDOR. ARBITRAGEM. RECURSO ESP...</td>\n",
       "      <td>AGRAVO INTERNO NO AGRAVO INTERNO NO AGRAVO EM ...</td>\n",
       "      <td>1.0</td>\n",
       "    </tr>\n",
       "    <tr>\n",
       "      <th>78</th>\n",
       "      <td>ADMINISTRATIVO. MANDADO DE SEGURANÇA. PROCESSO...</td>\n",
       "      <td>PROCESSUAL CIVIL. ADMINISTRATIVO. DANOS AMBIEN...</td>\n",
       "      <td>0</td>\n",
       "      <td>ADMINISTRATIVO. MANDADO DE SEGURANÇA. PROCESSO...</td>\n",
       "      <td>PROCESSUAL CIVIL. ADMINISTRATIVO. DANOS AMBIEN...</td>\n",
       "      <td>0.0</td>\n",
       "    </tr>\n",
       "    <tr>\n",
       "      <th>82</th>\n",
       "      <td>AGRAVO REGIMENTAL. AGRAVO EM RECURSO ESPECIAL....</td>\n",
       "      <td>PROCESSUAL CIVIL. LOCAÇÃO. AÇÃO DE DESPEJO. AP...</td>\n",
       "      <td>4</td>\n",
       "      <td>AGRAVO REGIMENTAL. AGRAVO EM RECURSO ESPECIAL....</td>\n",
       "      <td>PROCESSUAL CIVIL. LOCAÇÃO. AÇÃO DE DESPEJO. AP...</td>\n",
       "      <td>4.0</td>\n",
       "    </tr>\n",
       "    <tr>\n",
       "      <th>83</th>\n",
       "      <td>CONTRATO BANCÁRIO. AGRAVO REGIMENTAL NO RECURS...</td>\n",
       "      <td>CIVIL E PROCESSUAL. AGRAVO REGIMENTAL. AGRAVO ...</td>\n",
       "      <td>4</td>\n",
       "      <td>CONTRATO BANCÁRIO. AGRAVO REGIMENTAL NO RECURS...</td>\n",
       "      <td>CIVIL E PROCESSUAL. AGRAVO REGIMENTAL. AGRAVO ...</td>\n",
       "      <td>2.0</td>\n",
       "    </tr>\n",
       "    <tr>\n",
       "      <th>107</th>\n",
       "      <td>EXECUÇÃO PENAL. HABEAS CORPUS SUBSTITUTIVO DE ...</td>\n",
       "      <td>HABEAS CORPUS SUBSTITUTIVO DE RECURSO ORDINÁRI...</td>\n",
       "      <td>4</td>\n",
       "      <td>EXECUÇÃO PENAL. HABEAS CORPUS SUBSTITUTIVO DE ...</td>\n",
       "      <td>HABEAS CORPUS SUBSTITUTIVO DE RECURSO ORDINÁRI...</td>\n",
       "      <td>3.0</td>\n",
       "    </tr>\n",
       "    <tr>\n",
       "      <th>135</th>\n",
       "      <td>ADMINISTRATIVO E PROCESSUAL CIVIL. EMBARGOS DE...</td>\n",
       "      <td>ADMINISTRATIVO. PROCESSO ADMINISTRATIVO DISCIP...</td>\n",
       "      <td>2</td>\n",
       "      <td>ADMINISTRATIVO E PROCESSUAL CIVIL. EMBARGOS DE...</td>\n",
       "      <td>ADMINISTRATIVO. PROCESSO ADMINISTRATIVO DISCIP...</td>\n",
       "      <td>0.0</td>\n",
       "    </tr>\n",
       "    <tr>\n",
       "      <th>138</th>\n",
       "      <td>ADMINISTRATIVO E PROCESSUAL CIVIL. AGRAVO INTE...</td>\n",
       "      <td>RECURSO ESPECIAL. AÇÃO DE REGRESSO. CHEQUE PÓS...</td>\n",
       "      <td>0</td>\n",
       "      <td>ADMINISTRATIVO E PROCESSUAL CIVIL. AGRAVO INTE...</td>\n",
       "      <td>RECURSO ESPECIAL. AÇÃO DE REGRESSO. CHEQUE PÓS...</td>\n",
       "      <td>0.0</td>\n",
       "    </tr>\n",
       "    <tr>\n",
       "      <th>139</th>\n",
       "      <td>EMBARGOS DE DECLARAÇÃO. AGRAVO REGIMENTAL. AGR...</td>\n",
       "      <td>PROCESSUAL CIVIL. AGRAVO REGIMENTAL NO AGRAVO ...</td>\n",
       "      <td>2</td>\n",
       "      <td>EMBARGOS DE DECLARAÇÃO. AGRAVO REGIMENTAL. AGR...</td>\n",
       "      <td>PROCESSUAL CIVIL. AGRAVO REGIMENTAL NO AGRAVO ...</td>\n",
       "      <td>4.0</td>\n",
       "    </tr>\n",
       "    <tr>\n",
       "      <th>140</th>\n",
       "      <td>PROCESSUAL  CIVIL.  ADMINISTRATIVO.  MANDADO  ...</td>\n",
       "      <td>ADMINISTRATIVO.  AGRAVO INTERNO EM MANDADO DE ...</td>\n",
       "      <td>4</td>\n",
       "      <td>PROCESSUAL  CIVIL.  ADMINISTRATIVO.  MANDADO  ...</td>\n",
       "      <td>ADMINISTRATIVO.  AGRAVO INTERNO EM MANDADO DE ...</td>\n",
       "      <td>3.0</td>\n",
       "    </tr>\n",
       "    <tr>\n",
       "      <th>141</th>\n",
       "      <td>AGRAVO REGIMENTAL NO AGRAVO EM RECURSO ESPECIA...</td>\n",
       "      <td>AGRAVO REGIMENTAL NO AGRAVO EM RECURSO ESPECIA...</td>\n",
       "      <td>2</td>\n",
       "      <td>AGRAVO REGIMENTAL NO AGRAVO EM RECURSO ESPECIA...</td>\n",
       "      <td>AGRAVO REGIMENTAL NO AGRAVO EM RECURSO ESPECIA...</td>\n",
       "      <td>4.0</td>\n",
       "    </tr>\n",
       "  </tbody>\n",
       "</table>\n",
       "</div>"
      ],
      "text/plain": [
       "                                            sentence_A  \\\n",
       "34   AGRAVO  REGIMENTAL NO PEDIDO SUSPENSIVO. LEGIT...   \n",
       "35   AGRAVO  REGIMENTAL NO PEDIDO SUSPENSIVO. LEGIT...   \n",
       "36   AGRAVO REGIMENTAL NOS EMBARGOS DE DECLARAÇÃO N...   \n",
       "37   DIREITO CIVIL E DO CONSUMIDOR. AGRAVO NO RECUR...   \n",
       "39   CIVIL E PROCESSUAL CIVIL. BANCÁRIO. AGRAVO REG...   \n",
       "40   ADMINISTRATIVO  E  PROCESSUAL  CIVIL.  RECURSO...   \n",
       "41   ADMINISTRATIVO  E  PROCESSUAL  CIVIL.  RECURSO...   \n",
       "42   RECURSO ESPECIAL - PROPRIEDADE INDUSTRIAL - DI...   \n",
       "43   RECURSO EM HABEAS CORPUS. TRÁFICO DE DROGAS E ...   \n",
       "45   AGRAVO REGIMENTAL EM AGRAVO DE INSTRUMENTO. CI...   \n",
       "46   AGRAVO REGIMENTAL NO RECURSO ESPECIAL. CIVIL E...   \n",
       "47   ADMINISTRATIVO - PROCESSO ADMINISTRATIVO DISCI...   \n",
       "48   ADMINISTRATIVO - PROCESSO ADMINISTRATIVO DISCI...   \n",
       "49   ADMINISTRATIVO. ENERGIA ELÉTRICA.  INTERRUPÇÃO...   \n",
       "50            Data da Publicação/Fonte\\nDJe 06/12/2010   \n",
       "51            Data da Publicação/Fonte\\nDJe 06/12/2010   \n",
       "53   AGRAVO REGIMENTAL EM RECURSO ESPECIAL. DIREITO...   \n",
       "54   ADMINISTRATIVO.    CÓDIGO    DE    TRÂNSITO   ...   \n",
       "55   ADMINISTRATIVO.    CÓDIGO    DE    TRÂNSITO   ...   \n",
       "56   ADMINISTRATIVO  E  PROCESSUAL  CIVIL.  AGRAVO ...   \n",
       "57   RECURSO ORDINÁRIO EM MANDADO DE SEGURANÇA. ORD...   \n",
       "63   AGRAVO  INTERNO NO AGRAVO (ART. 544 DO CPC/73)...   \n",
       "64   DIREITO DO CONSUMIDOR. ARBITRAGEM. RECURSO ESP...   \n",
       "78   ADMINISTRATIVO. MANDADO DE SEGURANÇA. PROCESSO...   \n",
       "82   AGRAVO REGIMENTAL. AGRAVO EM RECURSO ESPECIAL....   \n",
       "83   CONTRATO BANCÁRIO. AGRAVO REGIMENTAL NO RECURS...   \n",
       "107  EXECUÇÃO PENAL. HABEAS CORPUS SUBSTITUTIVO DE ...   \n",
       "135  ADMINISTRATIVO E PROCESSUAL CIVIL. EMBARGOS DE...   \n",
       "138  ADMINISTRATIVO E PROCESSUAL CIVIL. AGRAVO INTE...   \n",
       "139  EMBARGOS DE DECLARAÇÃO. AGRAVO REGIMENTAL. AGR...   \n",
       "140  PROCESSUAL  CIVIL.  ADMINISTRATIVO.  MANDADO  ...   \n",
       "141  AGRAVO REGIMENTAL NO AGRAVO EM RECURSO ESPECIA...   \n",
       "\n",
       "                                            sentence_B  score  \\\n",
       "34   AGRAVO REGIMENTAL NO AGRAVO REGIMENTAL. SUSPEN...      4   \n",
       "35   AGRAVO REGIMENTAL NO AGRAVO REGIMENTAL. SUSPEN...      4   \n",
       "36   RECURSO ESPECIAL. CIVIL. INCORPORAÇÃO IMOBILIÁ...      2   \n",
       "37   PENAL.   HABEAS   CORPUS   SUBSTITUTIVO  DE  R...      0   \n",
       "39   AGRAVO REGIMENTAL NO AGRAVO EM RECURSO ESPECIA...      4   \n",
       "40   PROCESSUAL  CIVIL.  AGRAVO  REGIMENTAL NO RECU...      0   \n",
       "41   PROCESSUAL  CIVIL.  AGRAVO  REGIMENTAL NO RECU...      0   \n",
       "42   PENAL. PROCESSUAL PENAL. HABEAS CORPUS SUBSTIT...      0   \n",
       "43   HABEAS CORPUS. ARTS. 33 E 35 DA LEI Nº 11.343/...      4   \n",
       "45   AGRAVO REGIMENTAL NO AGRAVO (ART. 544 DO CPC) ...      2   \n",
       "46   AGRAVO  INTERNO  NO RECURSO ESPECIAL. AÇÃO ORD...      2   \n",
       "47   DIREITO PROCESSUAL CIVIL E ADMINISTRATIVO - EM...      2   \n",
       "48   DIREITO PROCESSUAL CIVIL E ADMINISTRATIVO - EM...      2   \n",
       "49   ADMINISTRATIVO. FORNECIMENTO DE ÁGUA. ALEGAÇÃO...      2   \n",
       "50   AGRAVO REGIMENTAL. RECURSO ESPECIAL. LOCAÇÃO. ...      4   \n",
       "51   AGRAVO REGIMENTAL. RECURSO ESPECIAL. LOCAÇÃO. ...      4   \n",
       "53   PROCESSUAL CIVIL. AGRAVO REGIMENTAL NO AGRAVO ...      2   \n",
       "54   PROCESSUAL  CIVIL E ADMINISTRATIVO. CARTEIRA N...      4   \n",
       "55   PROCESSUAL  CIVIL E ADMINISTRATIVO. CARTEIRA N...      4   \n",
       "56   CHEQUE. CAUÇÃO. CAUSA DEBENDI. POSSIBILIDADE\\n...      0   \n",
       "57   AGRAVO REGIMENTAL NO AGRAVO EM RECURSO ESPECIA...      0   \n",
       "63   PROCESSUAL CIVIL. AGRAVO INTERNO NO AGRAVO EM ...      2   \n",
       "64   AGRAVO INTERNO NO AGRAVO INTERNO NO AGRAVO EM ...      4   \n",
       "78   PROCESSUAL CIVIL. ADMINISTRATIVO. DANOS AMBIEN...      0   \n",
       "82   PROCESSUAL CIVIL. LOCAÇÃO. AÇÃO DE DESPEJO. AP...      4   \n",
       "83   CIVIL E PROCESSUAL. AGRAVO REGIMENTAL. AGRAVO ...      4   \n",
       "107  HABEAS CORPUS SUBSTITUTIVO DE RECURSO ORDINÁRI...      4   \n",
       "135  ADMINISTRATIVO. PROCESSO ADMINISTRATIVO DISCIP...      2   \n",
       "138  RECURSO ESPECIAL. AÇÃO DE REGRESSO. CHEQUE PÓS...      0   \n",
       "139  PROCESSUAL CIVIL. AGRAVO REGIMENTAL NO AGRAVO ...      2   \n",
       "140  ADMINISTRATIVO.  AGRAVO INTERNO EM MANDADO DE ...      4   \n",
       "141  AGRAVO REGIMENTAL NO AGRAVO EM RECURSO ESPECIA...      2   \n",
       "\n",
       "                                                 TEXT1  \\\n",
       "34   AGRAVO  REGIMENTAL NO PEDIDO SUSPENSIVO. LEGIT...   \n",
       "35   AGRAVO  REGIMENTAL NO PEDIDO SUSPENSIVO. LEGIT...   \n",
       "36   AGRAVO REGIMENTAL NOS EMBARGOS DE DECLARAÇÃO N...   \n",
       "37   DIREITO CIVIL E DO CONSUMIDOR. AGRAVO NO RECUR...   \n",
       "39   CIVIL E PROCESSUAL CIVIL. BANCÁRIO. AGRAVO REG...   \n",
       "40   ADMINISTRATIVO  E  PROCESSUAL  CIVIL.  RECURSO...   \n",
       "41   ADMINISTRATIVO  E  PROCESSUAL  CIVIL.  RECURSO...   \n",
       "42   RECURSO ESPECIAL - PROPRIEDADE INDUSTRIAL - DI...   \n",
       "43   RECURSO EM HABEAS CORPUS. TRÁFICO DE DROGAS E ...   \n",
       "45   AGRAVO REGIMENTAL EM AGRAVO DE INSTRUMENTO. CI...   \n",
       "46   AGRAVO REGIMENTAL NO RECURSO ESPECIAL. CIVIL E...   \n",
       "47   ADMINISTRATIVO - PROCESSO ADMINISTRATIVO DISCI...   \n",
       "48   ADMINISTRATIVO - PROCESSO ADMINISTRATIVO DISCI...   \n",
       "49   ADMINISTRATIVO. ENERGIA ELÉTRICA.  INTERRUPÇÃO...   \n",
       "50            Data da Publicação/Fonte\\nDJe 06/12/2010   \n",
       "51            Data da Publicação/Fonte\\nDJe 06/12/2010   \n",
       "53   AGRAVO REGIMENTAL EM RECURSO ESPECIAL. DIREITO...   \n",
       "54   ADMINISTRATIVO.    CÓDIGO    DE    TRÂNSITO   ...   \n",
       "55   ADMINISTRATIVO.    CÓDIGO    DE    TRÂNSITO   ...   \n",
       "56   ADMINISTRATIVO  E  PROCESSUAL  CIVIL.  AGRAVO ...   \n",
       "57   RECURSO ORDINÁRIO EM MANDADO DE SEGURANÇA. ORD...   \n",
       "63   AGRAVO  INTERNO NO AGRAVO (ART. 544 DO CPC/73)...   \n",
       "64   DIREITO DO CONSUMIDOR. ARBITRAGEM. RECURSO ESP...   \n",
       "78   ADMINISTRATIVO. MANDADO DE SEGURANÇA. PROCESSO...   \n",
       "82   AGRAVO REGIMENTAL. AGRAVO EM RECURSO ESPECIAL....   \n",
       "83   CONTRATO BANCÁRIO. AGRAVO REGIMENTAL NO RECURS...   \n",
       "107  EXECUÇÃO PENAL. HABEAS CORPUS SUBSTITUTIVO DE ...   \n",
       "135  ADMINISTRATIVO E PROCESSUAL CIVIL. EMBARGOS DE...   \n",
       "138  ADMINISTRATIVO E PROCESSUAL CIVIL. AGRAVO INTE...   \n",
       "139  EMBARGOS DE DECLARAÇÃO. AGRAVO REGIMENTAL. AGR...   \n",
       "140  PROCESSUAL  CIVIL.  ADMINISTRATIVO.  MANDADO  ...   \n",
       "141  AGRAVO REGIMENTAL NO AGRAVO EM RECURSO ESPECIA...   \n",
       "\n",
       "                                                 TEXT2  SIMILARITY_SCORE  \n",
       "34   AGRAVO REGIMENTAL NO AGRAVO REGIMENTAL. SUSPEN...               1.0  \n",
       "35   AGRAVO REGIMENTAL NO AGRAVO REGIMENTAL. SUSPEN...               4.0  \n",
       "36   RECURSO ESPECIAL. CIVIL. INCORPORAÇÃO IMOBILIÁ...               3.0  \n",
       "37   PENAL.   HABEAS   CORPUS   SUBSTITUTIVO  DE  R...               0.0  \n",
       "39   AGRAVO REGIMENTAL NO AGRAVO EM RECURSO ESPECIA...               2.0  \n",
       "40   PROCESSUAL  CIVIL.  AGRAVO  REGIMENTAL NO RECU...               1.0  \n",
       "41   PROCESSUAL  CIVIL.  AGRAVO  REGIMENTAL NO RECU...               2.0  \n",
       "42   PENAL. PROCESSUAL PENAL. HABEAS CORPUS SUBSTIT...               0.0  \n",
       "43   HABEAS CORPUS. ARTS. 33 E 35 DA LEI Nº 11.343/...               2.0  \n",
       "45   AGRAVO REGIMENTAL NO AGRAVO (ART. 544 DO CPC) ...               3.0  \n",
       "46   AGRAVO  INTERNO  NO RECURSO ESPECIAL. AÇÃO ORD...               1.0  \n",
       "47   DIREITO PROCESSUAL CIVIL E ADMINISTRATIVO - EM...               3.0  \n",
       "48   DIREITO PROCESSUAL CIVIL E ADMINISTRATIVO - EM...               0.0  \n",
       "49   ADMINISTRATIVO. FORNECIMENTO DE ÁGUA. ALEGAÇÃO...               2.0  \n",
       "50   AGRAVO REGIMENTAL. RECURSO ESPECIAL. LOCAÇÃO. ...               0.0  \n",
       "51   AGRAVO REGIMENTAL. RECURSO ESPECIAL. LOCAÇÃO. ...               0.0  \n",
       "53   PROCESSUAL CIVIL. AGRAVO REGIMENTAL NO AGRAVO ...               1.0  \n",
       "54   PROCESSUAL  CIVIL E ADMINISTRATIVO. CARTEIRA N...               3.0  \n",
       "55   PROCESSUAL  CIVIL E ADMINISTRATIVO. CARTEIRA N...               3.0  \n",
       "56   CHEQUE. CAUÇÃO. CAUSA DEBENDI. POSSIBILIDADE\\n...               0.0  \n",
       "57   AGRAVO REGIMENTAL NO AGRAVO EM RECURSO ESPECIA...               0.0  \n",
       "63   PROCESSUAL CIVIL. AGRAVO INTERNO NO AGRAVO EM ...               3.0  \n",
       "64   AGRAVO INTERNO NO AGRAVO INTERNO NO AGRAVO EM ...               1.0  \n",
       "78   PROCESSUAL CIVIL. ADMINISTRATIVO. DANOS AMBIEN...               0.0  \n",
       "82   PROCESSUAL CIVIL. LOCAÇÃO. AÇÃO DE DESPEJO. AP...               4.0  \n",
       "83   CIVIL E PROCESSUAL. AGRAVO REGIMENTAL. AGRAVO ...               2.0  \n",
       "107  HABEAS CORPUS SUBSTITUTIVO DE RECURSO ORDINÁRI...               3.0  \n",
       "135  ADMINISTRATIVO. PROCESSO ADMINISTRATIVO DISCIP...               0.0  \n",
       "138  RECURSO ESPECIAL. AÇÃO DE REGRESSO. CHEQUE PÓS...               0.0  \n",
       "139  PROCESSUAL CIVIL. AGRAVO REGIMENTAL NO AGRAVO ...               4.0  \n",
       "140  ADMINISTRATIVO.  AGRAVO INTERNO EM MANDADO DE ...               3.0  \n",
       "141  AGRAVO REGIMENTAL NO AGRAVO EM RECURSO ESPECIA...               4.0  "
      ]
     },
     "execution_count": 60,
     "metadata": {},
     "output_type": "execute_result"
    }
   ],
   "source": [
    "merge = pd.merge(heuristic, survey_agreement[['TEXT1','TEXT2','SIMILARITY_SCORE']],  how='left', left_on=['sentence_A','sentence_B'], right_on = ['TEXT1','TEXT2']).dropna()\n",
    "merge"
   ]
  },
  {
   "cell_type": "code",
   "execution_count": 61,
   "metadata": {
    "pycharm": {
     "name": "#%%\n"
    }
   },
   "outputs": [
    {
     "data": {
      "text/plain": [
       "32"
      ]
     },
     "execution_count": 61,
     "metadata": {},
     "output_type": "execute_result"
    }
   ],
   "source": [
    "len(merge)"
   ]
  },
  {
   "cell_type": "code",
   "execution_count": 62,
   "metadata": {
    "pycharm": {
     "name": "#%%\n"
    }
   },
   "outputs": [
    {
     "data": {
      "text/html": [
       "<div>\n",
       "<style scoped>\n",
       "    .dataframe tbody tr th:only-of-type {\n",
       "        vertical-align: middle;\n",
       "    }\n",
       "\n",
       "    .dataframe tbody tr th {\n",
       "        vertical-align: top;\n",
       "    }\n",
       "\n",
       "    .dataframe thead th {\n",
       "        text-align: right;\n",
       "    }\n",
       "</style>\n",
       "<table border=\"1\" class=\"dataframe\">\n",
       "  <thead>\n",
       "    <tr style=\"text-align: right;\">\n",
       "      <th></th>\n",
       "      <th>score</th>\n",
       "      <th>SIMILARITY_SCORE</th>\n",
       "    </tr>\n",
       "  </thead>\n",
       "  <tbody>\n",
       "    <tr>\n",
       "      <th>score</th>\n",
       "      <td>1.000000</td>\n",
       "      <td>0.447531</td>\n",
       "    </tr>\n",
       "    <tr>\n",
       "      <th>SIMILARITY_SCORE</th>\n",
       "      <td>0.447531</td>\n",
       "      <td>1.000000</td>\n",
       "    </tr>\n",
       "  </tbody>\n",
       "</table>\n",
       "</div>"
      ],
      "text/plain": [
       "                     score  SIMILARITY_SCORE\n",
       "score             1.000000          0.447531\n",
       "SIMILARITY_SCORE  0.447531          1.000000"
      ]
     },
     "execution_count": 62,
     "metadata": {},
     "output_type": "execute_result"
    }
   ],
   "source": [
    "merge[['score','SIMILARITY_SCORE']].corr(method='pearson')"
   ]
  },
  {
   "cell_type": "code",
   "execution_count": 63,
   "metadata": {
    "pycharm": {
     "name": "#%%\n"
    }
   },
   "outputs": [
    {
     "data": {
      "text/html": [
       "<div>\n",
       "<style scoped>\n",
       "    .dataframe tbody tr th:only-of-type {\n",
       "        vertical-align: middle;\n",
       "    }\n",
       "\n",
       "    .dataframe tbody tr th {\n",
       "        vertical-align: top;\n",
       "    }\n",
       "\n",
       "    .dataframe thead th {\n",
       "        text-align: right;\n",
       "    }\n",
       "</style>\n",
       "<table border=\"1\" class=\"dataframe\">\n",
       "  <thead>\n",
       "    <tr style=\"text-align: right;\">\n",
       "      <th></th>\n",
       "      <th>score</th>\n",
       "      <th>SIMILARITY_SCORE</th>\n",
       "    </tr>\n",
       "  </thead>\n",
       "  <tbody>\n",
       "    <tr>\n",
       "      <th>score</th>\n",
       "      <td>1.000000</td>\n",
       "      <td>0.431469</td>\n",
       "    </tr>\n",
       "    <tr>\n",
       "      <th>SIMILARITY_SCORE</th>\n",
       "      <td>0.431469</td>\n",
       "      <td>1.000000</td>\n",
       "    </tr>\n",
       "  </tbody>\n",
       "</table>\n",
       "</div>"
      ],
      "text/plain": [
       "                     score  SIMILARITY_SCORE\n",
       "score             1.000000          0.431469\n",
       "SIMILARITY_SCORE  0.431469          1.000000"
      ]
     },
     "execution_count": 63,
     "metadata": {},
     "output_type": "execute_result"
    }
   ],
   "source": [
    "merge[['score','SIMILARITY_SCORE']].corr(method='spearman')"
   ]
  },
  {
   "cell_type": "code",
   "execution_count": 64,
   "metadata": {
    "pycharm": {
     "name": "#%%\n"
    }
   },
   "outputs": [
    {
     "name": "stdout",
     "output_type": "stream",
     "text": [
      "Krippendorff's alpha for interval metric:  0.40159329996935955\n"
     ]
    }
   ],
   "source": [
    "scores = [merge['score'].values.tolist(), merge['SIMILARITY_SCORE'].values.tolist()]\n",
    "# print(\"Krippendorff's alpha for nominal metric: \", krippendorff.alpha(reliability_data=tmp, level_of_measurement=\"nominal\"))\n",
    "print(\"Krippendorff's alpha for interval metric: \", krippendorff.alpha(reliability_data=scores))\n",
    "# http://www.abed.org.br/congresso2011/cd/117.pdf\n"
   ]
  },
  {
   "cell_type": "markdown",
   "metadata": {
    "pycharm": {
     "name": "#%% md\n"
    }
   },
   "source": [
    "### 6. Qual a média e desvio padrão da confiança dos especialistas aos rótulos atribuídos?"
   ]
  },
  {
   "cell_type": "code",
   "execution_count": 65,
   "metadata": {
    "pycharm": {
     "name": "#%%\n"
    }
   },
   "outputs": [
    {
     "name": "stdout",
     "output_type": "stream",
     "text": [
      "Média da confiança:  3.279166666666667 \n",
      "Variância da confiança:  0.9262326388888916 \n",
      "Desvio padrão da confiança:  0.9624098081840665\n"
     ]
    }
   ],
   "source": [
    "mean = np.mean(survey['SIMILARITY_CONFIDENCE'])\n",
    "mean_variance = np.var(survey['SIMILARITY_CONFIDENCE'])\n",
    "mean_std = np.std(survey['SIMILARITY_CONFIDENCE'])\n",
    "print('Média da confiança: ', mean, \n",
    "      '\\nVariância da confiança: ', mean_variance, \n",
    "      '\\nDesvio padrão da confiança: ', mean_std)"
   ]
  }
 ],
 "metadata": {
  "kernelspec": {
   "display_name": "Python 3 (ipykernel)",
   "language": "python",
   "name": "python3"
  },
  "language_info": {
   "codemirror_mode": {
    "name": "ipython",
    "version": 3
   },
   "file_extension": ".py",
   "mimetype": "text/x-python",
   "name": "python",
   "nbconvert_exporter": "python",
   "pygments_lexer": "ipython3",
   "version": "3.9.13"
  }
 },
 "nbformat": 4,
 "nbformat_minor": 4
}
