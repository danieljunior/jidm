{
 "cells": [
  {
   "cell_type": "code",
   "execution_count": 1,
   "id": "6c94dcad",
   "metadata": {
    "id": "6c94dcad",
    "pycharm": {
     "name": "#%%\n"
    }
   },
   "outputs": [],
   "source": [
    "import pandas as pd\n",
    "import numpy as np"
   ]
  },
  {
   "cell_type": "code",
   "execution_count": 2,
   "id": "948ed26e",
   "metadata": {
    "id": "948ed26e",
    "pycharm": {
     "name": "#%%\n"
    }
   },
   "outputs": [
    {
     "data": {
      "text/html": [
       "<div>\n",
       "<style scoped>\n",
       "    .dataframe tbody tr th:only-of-type {\n",
       "        vertical-align: middle;\n",
       "    }\n",
       "\n",
       "    .dataframe tbody tr th {\n",
       "        vertical-align: top;\n",
       "    }\n",
       "\n",
       "    .dataframe thead th {\n",
       "        text-align: right;\n",
       "    }\n",
       "</style>\n",
       "<table border=\"1\" class=\"dataframe\">\n",
       "  <thead>\n",
       "    <tr style=\"text-align: right;\">\n",
       "      <th></th>\n",
       "      <th>sentence_A</th>\n",
       "      <th>sentence_B</th>\n",
       "      <th>score</th>\n",
       "      <th>range</th>\n",
       "      <th>SPLIT</th>\n",
       "    </tr>\n",
       "  </thead>\n",
       "  <tbody>\n",
       "    <tr>\n",
       "      <th>0</th>\n",
       "      <td>ADMINISTRATIVO. RECURSO ORDINÁRIO EM MANDADO D...</td>\n",
       "      <td>ADMINISTRATIVO. RECURSO ORDINÁRIO EM MANDADO D...</td>\n",
       "      <td>4.676405</td>\n",
       "      <td>4</td>\n",
       "      <td>TRAIN</td>\n",
       "    </tr>\n",
       "    <tr>\n",
       "      <th>1</th>\n",
       "      <td>ADMINISTRATIVO. AGRAVO REGIMENTAL. RECURSO ORD...</td>\n",
       "      <td>ADMINISTRATIVO E PROCESSUAL CIVIL. SEGUNDOS EM...</td>\n",
       "      <td>4.540016</td>\n",
       "      <td>4</td>\n",
       "      <td>TEST</td>\n",
       "    </tr>\n",
       "    <tr>\n",
       "      <th>2</th>\n",
       "      <td>ADMINISTRATIVO. RECURSO ORDINÁRIO EM MANDADO D...</td>\n",
       "      <td>ADMINISTRATIVO E PROCESSUAL CIVIL. SEGUNDOS EM...</td>\n",
       "      <td>4.597874</td>\n",
       "      <td>4</td>\n",
       "      <td>TRAIN</td>\n",
       "    </tr>\n",
       "    <tr>\n",
       "      <th>3</th>\n",
       "      <td>ADMINISTRATIVO. AGRAVO REGIMENTAL. RECURSO ORD...</td>\n",
       "      <td>ADMINISTRATIVO. RECURSO ORDINÁRIO EM MANDADO D...</td>\n",
       "      <td>4.724089</td>\n",
       "      <td>4</td>\n",
       "      <td>TEST</td>\n",
       "    </tr>\n",
       "    <tr>\n",
       "      <th>4</th>\n",
       "      <td>ADMINISTRATIVO E PROCESSUAL CIVIL. SEGUNDOS EM...</td>\n",
       "      <td>ADMINISTRATIVO. RECURSO ORDINÁRIO EM MANDADO D...</td>\n",
       "      <td>4.686756</td>\n",
       "      <td>4</td>\n",
       "      <td>TRAIN</td>\n",
       "    </tr>\n",
       "  </tbody>\n",
       "</table>\n",
       "</div>"
      ],
      "text/plain": [
       "                                          sentence_A  \\\n",
       "0  ADMINISTRATIVO. RECURSO ORDINÁRIO EM MANDADO D...   \n",
       "1  ADMINISTRATIVO. AGRAVO REGIMENTAL. RECURSO ORD...   \n",
       "2  ADMINISTRATIVO. RECURSO ORDINÁRIO EM MANDADO D...   \n",
       "3  ADMINISTRATIVO. AGRAVO REGIMENTAL. RECURSO ORD...   \n",
       "4  ADMINISTRATIVO E PROCESSUAL CIVIL. SEGUNDOS EM...   \n",
       "\n",
       "                                          sentence_B     score  range  SPLIT  \n",
       "0  ADMINISTRATIVO. RECURSO ORDINÁRIO EM MANDADO D...  4.676405      4  TRAIN  \n",
       "1  ADMINISTRATIVO E PROCESSUAL CIVIL. SEGUNDOS EM...  4.540016      4   TEST  \n",
       "2  ADMINISTRATIVO E PROCESSUAL CIVIL. SEGUNDOS EM...  4.597874      4  TRAIN  \n",
       "3  ADMINISTRATIVO. RECURSO ORDINÁRIO EM MANDADO D...  4.724089      4   TEST  \n",
       "4  ADMINISTRATIVO. RECURSO ORDINÁRIO EM MANDADO D...  4.686756      4  TRAIN  "
      ]
     },
     "execution_count": 2,
     "metadata": {},
     "output_type": "execute_result"
    }
   ],
   "source": [
    "stj = pd.read_csv('data/sts/stj_sts.csv')\n",
    "stj.head(5)"
   ]
  },
  {
   "cell_type": "code",
   "execution_count": 3,
   "id": "4a367e53",
   "metadata": {
    "id": "4a367e53",
    "pycharm": {
     "name": "#%%\n"
    }
   },
   "outputs": [
    {
     "data": {
      "text/html": [
       "<div>\n",
       "<style scoped>\n",
       "    .dataframe tbody tr th:only-of-type {\n",
       "        vertical-align: middle;\n",
       "    }\n",
       "\n",
       "    .dataframe tbody tr th {\n",
       "        vertical-align: top;\n",
       "    }\n",
       "\n",
       "    .dataframe thead th {\n",
       "        text-align: right;\n",
       "    }\n",
       "</style>\n",
       "<table border=\"1\" class=\"dataframe\">\n",
       "  <thead>\n",
       "    <tr style=\"text-align: right;\">\n",
       "      <th></th>\n",
       "      <th>sentence_A</th>\n",
       "      <th>sentence_B</th>\n",
       "      <th>score</th>\n",
       "      <th>range</th>\n",
       "      <th>SPLIT</th>\n",
       "    </tr>\n",
       "  </thead>\n",
       "  <tbody>\n",
       "    <tr>\n",
       "      <th>0</th>\n",
       "      <td>ADMINISTRATIVO. RECURSO ORDINÁRIO EM MANDADO D...</td>\n",
       "      <td>ADMINISTRATIVO. RECURSO ORDINÁRIO EM MANDADO D...</td>\n",
       "      <td>4.676405</td>\n",
       "      <td>4</td>\n",
       "      <td>TRAIN</td>\n",
       "    </tr>\n",
       "    <tr>\n",
       "      <th>1</th>\n",
       "      <td>ADMINISTRATIVO. AGRAVO REGIMENTAL. RECURSO ORD...</td>\n",
       "      <td>ADMINISTRATIVO E PROCESSUAL CIVIL. SEGUNDOS EM...</td>\n",
       "      <td>4.540016</td>\n",
       "      <td>4</td>\n",
       "      <td>TEST</td>\n",
       "    </tr>\n",
       "    <tr>\n",
       "      <th>2</th>\n",
       "      <td>ADMINISTRATIVO. RECURSO ORDINÁRIO EM MANDADO D...</td>\n",
       "      <td>ADMINISTRATIVO E PROCESSUAL CIVIL. SEGUNDOS EM...</td>\n",
       "      <td>4.597874</td>\n",
       "      <td>4</td>\n",
       "      <td>TRAIN</td>\n",
       "    </tr>\n",
       "    <tr>\n",
       "      <th>3</th>\n",
       "      <td>ADMINISTRATIVO. AGRAVO REGIMENTAL. RECURSO ORD...</td>\n",
       "      <td>ADMINISTRATIVO. RECURSO ORDINÁRIO EM MANDADO D...</td>\n",
       "      <td>4.724089</td>\n",
       "      <td>4</td>\n",
       "      <td>TEST</td>\n",
       "    </tr>\n",
       "    <tr>\n",
       "      <th>4</th>\n",
       "      <td>ADMINISTRATIVO E PROCESSUAL CIVIL. SEGUNDOS EM...</td>\n",
       "      <td>ADMINISTRATIVO. RECURSO ORDINÁRIO EM MANDADO D...</td>\n",
       "      <td>4.686756</td>\n",
       "      <td>4</td>\n",
       "      <td>TRAIN</td>\n",
       "    </tr>\n",
       "  </tbody>\n",
       "</table>\n",
       "</div>"
      ],
      "text/plain": [
       "                                          sentence_A  \\\n",
       "0  ADMINISTRATIVO. RECURSO ORDINÁRIO EM MANDADO D...   \n",
       "1  ADMINISTRATIVO. AGRAVO REGIMENTAL. RECURSO ORD...   \n",
       "2  ADMINISTRATIVO. RECURSO ORDINÁRIO EM MANDADO D...   \n",
       "3  ADMINISTRATIVO. AGRAVO REGIMENTAL. RECURSO ORD...   \n",
       "4  ADMINISTRATIVO E PROCESSUAL CIVIL. SEGUNDOS EM...   \n",
       "\n",
       "                                          sentence_B     score  range  SPLIT  \n",
       "0  ADMINISTRATIVO. RECURSO ORDINÁRIO EM MANDADO D...  4.676405      4  TRAIN  \n",
       "1  ADMINISTRATIVO E PROCESSUAL CIVIL. SEGUNDOS EM...  4.540016      4   TEST  \n",
       "2  ADMINISTRATIVO E PROCESSUAL CIVIL. SEGUNDOS EM...  4.597874      4  TRAIN  \n",
       "3  ADMINISTRATIVO. RECURSO ORDINÁRIO EM MANDADO D...  4.724089      4   TEST  \n",
       "4  ADMINISTRATIVO. RECURSO ORDINÁRIO EM MANDADO D...  4.686756      4  TRAIN  "
      ]
     },
     "execution_count": 3,
     "metadata": {},
     "output_type": "execute_result"
    }
   ],
   "source": [
    "stj['range'].mask(stj['range'] == 3, 2, inplace=True)\n",
    "stj.head(5)"
   ]
  },
  {
   "cell_type": "code",
   "execution_count": 4,
   "id": "dd3bef31",
   "metadata": {
    "id": "dd3bef31",
    "pycharm": {
     "name": "#%%\n"
    }
   },
   "outputs": [],
   "source": [
    "train = stj[stj.SPLIT =='TRAIN'][[\"sentence_A\", \"sentence_B\", 'range']].rename(columns = {'range':'score'})\n",
    "test = stj[stj.SPLIT =='TEST'][[\"sentence_A\", \"sentence_B\", 'range']].rename(columns = {'range':'score'})\n",
    "valid = stj[stj.SPLIT =='VALID'][[\"sentence_A\", \"sentence_B\", 'range']].rename(columns = {'range':'score'})"
   ]
  },
  {
   "cell_type": "code",
   "execution_count": 5,
   "id": "1f6a1fea",
   "metadata": {
    "id": "1f6a1fea",
    "pycharm": {
     "name": "#%%\n"
    }
   },
   "outputs": [
    {
     "data": {
      "text/plain": [
       "score\n",
       "0    3398\n",
       "2    3808\n",
       "4    3608\n",
       "Name: score, dtype: int64"
      ]
     },
     "execution_count": 5,
     "metadata": {},
     "output_type": "execute_result"
    }
   ],
   "source": [
    "test.groupby(['score'])['score'].count()"
   ]
  },
  {
   "cell_type": "code",
   "execution_count": 6,
   "id": "d72443e9",
   "metadata": {
    "id": "d72443e9",
    "pycharm": {
     "name": "#%%\n"
    }
   },
   "outputs": [
    {
     "data": {
      "text/html": [
       "<div>\n",
       "<style scoped>\n",
       "    .dataframe tbody tr th:only-of-type {\n",
       "        vertical-align: middle;\n",
       "    }\n",
       "\n",
       "    .dataframe tbody tr th {\n",
       "        vertical-align: top;\n",
       "    }\n",
       "\n",
       "    .dataframe thead th {\n",
       "        text-align: right;\n",
       "    }\n",
       "</style>\n",
       "<table border=\"1\" class=\"dataframe\">\n",
       "  <thead>\n",
       "    <tr style=\"text-align: right;\">\n",
       "      <th></th>\n",
       "      <th>sentence_A</th>\n",
       "      <th>sentence_B</th>\n",
       "      <th>score</th>\n",
       "    </tr>\n",
       "  </thead>\n",
       "  <tbody>\n",
       "    <tr>\n",
       "      <th>18647</th>\n",
       "      <td>PROCESSUAL CIVIL. AGRAVO REGIMENTAL. ART. 535 ...</td>\n",
       "      <td>AGRAVO  REGIMENTAL  NO AGRAVO EM RECURSO ESPEC...</td>\n",
       "      <td>0</td>\n",
       "    </tr>\n",
       "    <tr>\n",
       "      <th>30156</th>\n",
       "      <td>PROCESSUAL CIVIL. AGRAVO REGIMENTAL. ART. 535 ...</td>\n",
       "      <td>AGRAVO REGIMENTAL NO AGRAVO DE INSTRUMENTO. AÇ...</td>\n",
       "      <td>0</td>\n",
       "    </tr>\n",
       "    <tr>\n",
       "      <th>28285</th>\n",
       "      <td>PROCESSUAL CIVIL. AGRAVO REGIMENTAL. ART. 535 ...</td>\n",
       "      <td>RECURSO  ESPECIAL. RESPONSABILIDADE CIVIL. DAN...</td>\n",
       "      <td>0</td>\n",
       "    </tr>\n",
       "    <tr>\n",
       "      <th>19225</th>\n",
       "      <td>PROCESSUAL CIVIL. AGRAVO REGIMENTAL. ART. 535 ...</td>\n",
       "      <td>AGRAVO  REGIMENTAL  EM  HABEAS CORPUS. EXECUÇÃ...</td>\n",
       "      <td>0</td>\n",
       "    </tr>\n",
       "    <tr>\n",
       "      <th>19471</th>\n",
       "      <td>PROCESSUAL CIVIL. AGRAVO REGIMENTAL. ART. 535 ...</td>\n",
       "      <td>Data da Publicação/Fonte\\nDJe 17/06/2016</td>\n",
       "      <td>0</td>\n",
       "    </tr>\n",
       "  </tbody>\n",
       "</table>\n",
       "</div>"
      ],
      "text/plain": [
       "                                              sentence_A  \\\n",
       "18647  PROCESSUAL CIVIL. AGRAVO REGIMENTAL. ART. 535 ...   \n",
       "30156  PROCESSUAL CIVIL. AGRAVO REGIMENTAL. ART. 535 ...   \n",
       "28285  PROCESSUAL CIVIL. AGRAVO REGIMENTAL. ART. 535 ...   \n",
       "19225  PROCESSUAL CIVIL. AGRAVO REGIMENTAL. ART. 535 ...   \n",
       "19471  PROCESSUAL CIVIL. AGRAVO REGIMENTAL. ART. 535 ...   \n",
       "\n",
       "                                              sentence_B  score  \n",
       "18647  AGRAVO  REGIMENTAL  NO AGRAVO EM RECURSO ESPEC...      0  \n",
       "30156  AGRAVO REGIMENTAL NO AGRAVO DE INSTRUMENTO. AÇ...      0  \n",
       "28285  RECURSO  ESPECIAL. RESPONSABILIDADE CIVIL. DAN...      0  \n",
       "19225  AGRAVO  REGIMENTAL  EM  HABEAS CORPUS. EXECUÇÃ...      0  \n",
       "19471           Data da Publicação/Fonte\\nDJe 17/06/2016      0  "
      ]
     },
     "execution_count": 6,
     "metadata": {},
     "output_type": "execute_result"
    }
   ],
   "source": [
    "to_anotate = test[test.score == 0].sample(n=35, random_state=42)\n",
    "to_anotate = pd.concat([to_anotate, test[test.score == 2].sample(n=35, random_state=42)])\n",
    "to_anotate = pd.concat([to_anotate, test[test.score == 4].sample(n=35, random_state=42)])\n",
    "to_anotate.head(5)"
   ]
  },
  {
   "cell_type": "code",
   "execution_count": 7,
   "id": "f3f2c245",
   "metadata": {
    "id": "f3f2c245",
    "pycharm": {
     "name": "#%%\n"
    }
   },
   "outputs": [
    {
     "data": {
      "text/html": [
       "<div>\n",
       "<style scoped>\n",
       "    .dataframe tbody tr th:only-of-type {\n",
       "        vertical-align: middle;\n",
       "    }\n",
       "\n",
       "    .dataframe tbody tr th {\n",
       "        vertical-align: top;\n",
       "    }\n",
       "\n",
       "    .dataframe thead th {\n",
       "        text-align: right;\n",
       "    }\n",
       "</style>\n",
       "<table border=\"1\" class=\"dataframe\">\n",
       "  <thead>\n",
       "    <tr style=\"text-align: right;\">\n",
       "      <th></th>\n",
       "      <th>sentence_A</th>\n",
       "      <th>sentence_B</th>\n",
       "      <th>score</th>\n",
       "    </tr>\n",
       "  </thead>\n",
       "  <tbody>\n",
       "    <tr>\n",
       "      <th>1</th>\n",
       "      <td>ADMINISTRATIVO. AGRAVO REGIMENTAL. RECURSO ORD...</td>\n",
       "      <td>ADMINISTRATIVO E PROCESSUAL CIVIL. SEGUNDOS EM...</td>\n",
       "      <td>4</td>\n",
       "    </tr>\n",
       "    <tr>\n",
       "      <th>3</th>\n",
       "      <td>ADMINISTRATIVO. AGRAVO REGIMENTAL. RECURSO ORD...</td>\n",
       "      <td>ADMINISTRATIVO. RECURSO ORDINÁRIO EM MANDADO D...</td>\n",
       "      <td>4</td>\n",
       "    </tr>\n",
       "    <tr>\n",
       "      <th>14</th>\n",
       "      <td>CONFLITO  NEGATIVO  DE COMPETÊNCIA. NOMEAÇÃO P...</td>\n",
       "      <td>AGRAVO REGIMENTAL. CONFLITO DE COMPETÊNCIA. CO...</td>\n",
       "      <td>4</td>\n",
       "    </tr>\n",
       "    <tr>\n",
       "      <th>20</th>\n",
       "      <td>CONFLITO  NEGATIVO  DE COMPETÊNCIA. NOMEAÇÃO P...</td>\n",
       "      <td>PROCESSUAL CIVIL. ADMINISTRATIVO. CONCURSO PÚB...</td>\n",
       "      <td>4</td>\n",
       "    </tr>\n",
       "    <tr>\n",
       "      <th>23</th>\n",
       "      <td>HABEAS CORPUS SUBSTITUTIVO DE RECURSO ESPECIAL...</td>\n",
       "      <td>AGRAVO REGIMENTAL NO RECURSO ESPECIAL. ESTUPRO...</td>\n",
       "      <td>4</td>\n",
       "    </tr>\n",
       "  </tbody>\n",
       "</table>\n",
       "</div>"
      ],
      "text/plain": [
       "                                           sentence_A  \\\n",
       "1   ADMINISTRATIVO. AGRAVO REGIMENTAL. RECURSO ORD...   \n",
       "3   ADMINISTRATIVO. AGRAVO REGIMENTAL. RECURSO ORD...   \n",
       "14  CONFLITO  NEGATIVO  DE COMPETÊNCIA. NOMEAÇÃO P...   \n",
       "20  CONFLITO  NEGATIVO  DE COMPETÊNCIA. NOMEAÇÃO P...   \n",
       "23  HABEAS CORPUS SUBSTITUTIVO DE RECURSO ESPECIAL...   \n",
       "\n",
       "                                           sentence_B  score  \n",
       "1   ADMINISTRATIVO E PROCESSUAL CIVIL. SEGUNDOS EM...      4  \n",
       "3   ADMINISTRATIVO. RECURSO ORDINÁRIO EM MANDADO D...      4  \n",
       "14  AGRAVO REGIMENTAL. CONFLITO DE COMPETÊNCIA. CO...      4  \n",
       "20  PROCESSUAL CIVIL. ADMINISTRATIVO. CONCURSO PÚB...      4  \n",
       "23  AGRAVO REGIMENTAL NO RECURSO ESPECIAL. ESTUPRO...      4  "
      ]
     },
     "execution_count": 7,
     "metadata": {},
     "output_type": "execute_result"
    }
   ],
   "source": [
    "test = test.drop(to_anotate.index)\n",
    "test.head(5)"
   ]
  },
  {
   "cell_type": "code",
   "execution_count": 8,
   "id": "c716d0c5",
   "metadata": {
    "id": "c716d0c5",
    "pycharm": {
     "name": "#%%\n"
    }
   },
   "outputs": [
    {
     "data": {
      "text/html": [
       "<div>\n",
       "<style scoped>\n",
       "    .dataframe tbody tr th:only-of-type {\n",
       "        vertical-align: middle;\n",
       "    }\n",
       "\n",
       "    .dataframe tbody tr th {\n",
       "        vertical-align: top;\n",
       "    }\n",
       "\n",
       "    .dataframe thead th {\n",
       "        text-align: right;\n",
       "    }\n",
       "</style>\n",
       "<table border=\"1\" class=\"dataframe\">\n",
       "  <thead>\n",
       "    <tr style=\"text-align: right;\">\n",
       "      <th></th>\n",
       "      <th>sentence_A</th>\n",
       "      <th>sentence_B</th>\n",
       "      <th>score</th>\n",
       "    </tr>\n",
       "  </thead>\n",
       "  <tbody>\n",
       "    <tr>\n",
       "      <th>0</th>\n",
       "      <td>AGRAVOS REGIMENTAIS NA MEDIDA CAUTELAR. RECUPE...</td>\n",
       "      <td>PROCESSUAL   CIVIL   E  TRIBUTÁRIO.  AGRAVO  R...</td>\n",
       "      <td>2</td>\n",
       "    </tr>\n",
       "    <tr>\n",
       "      <th>1</th>\n",
       "      <td>ADMINISTRATIVO E PROCESSUAL CIVIL. DESAPROPRIA...</td>\n",
       "      <td>PROCESSUAL CIVIL E ADMINISTRATIVO. DESAPROPRIA...</td>\n",
       "      <td>2</td>\n",
       "    </tr>\n",
       "    <tr>\n",
       "      <th>2</th>\n",
       "      <td>AGRAVO REGIMENTAL NO RECURSO ESPECIAL. PROCESS...</td>\n",
       "      <td>RECURSO ESPECIAL. AVALISTA. NOTA PROMISSÓRIA V...</td>\n",
       "      <td>2</td>\n",
       "    </tr>\n",
       "    <tr>\n",
       "      <th>3</th>\n",
       "      <td>PROCESSUAL  CIVIL. AGRAVO INTERNO NO MANDADO D...</td>\n",
       "      <td>PROCESSUAL  CIVIL.  EMBARGOS  DE  DECLARAÇÃO. ...</td>\n",
       "      <td>4</td>\n",
       "    </tr>\n",
       "    <tr>\n",
       "      <th>4</th>\n",
       "      <td>AÇÃO DE IMPROBIDADE ORIGINÁRIA CONTRA MEMBROS ...</td>\n",
       "      <td>ADMINISTRATIVO. PROCESSUAL CIVIL. AÇÃO DE IMPR...</td>\n",
       "      <td>2</td>\n",
       "    </tr>\n",
       "  </tbody>\n",
       "</table>\n",
       "</div>"
      ],
      "text/plain": [
       "                                          sentence_A  \\\n",
       "0  AGRAVOS REGIMENTAIS NA MEDIDA CAUTELAR. RECUPE...   \n",
       "1  ADMINISTRATIVO E PROCESSUAL CIVIL. DESAPROPRIA...   \n",
       "2  AGRAVO REGIMENTAL NO RECURSO ESPECIAL. PROCESS...   \n",
       "3  PROCESSUAL  CIVIL. AGRAVO INTERNO NO MANDADO D...   \n",
       "4  AÇÃO DE IMPROBIDADE ORIGINÁRIA CONTRA MEMBROS ...   \n",
       "\n",
       "                                          sentence_B  score  \n",
       "0  PROCESSUAL   CIVIL   E  TRIBUTÁRIO.  AGRAVO  R...      2  \n",
       "1  PROCESSUAL CIVIL E ADMINISTRATIVO. DESAPROPRIA...      2  \n",
       "2  RECURSO ESPECIAL. AVALISTA. NOTA PROMISSÓRIA V...      2  \n",
       "3  PROCESSUAL  CIVIL.  EMBARGOS  DE  DECLARAÇÃO. ...      4  \n",
       "4  ADMINISTRATIVO. PROCESSUAL CIVIL. AÇÃO DE IMPR...      2  "
      ]
     },
     "execution_count": 8,
     "metadata": {},
     "output_type": "execute_result"
    }
   ],
   "source": [
    "to_anotate = to_anotate.sample(frac=1, random_state=1).reset_index(drop=True)\n",
    "to_anotate.head(5)"
   ]
  },
  {
   "cell_type": "code",
   "execution_count": 9,
   "id": "b402d268",
   "metadata": {
    "id": "b402d268",
    "pycharm": {
     "name": "#%%\n"
    },
    "tags": []
   },
   "outputs": [],
   "source": [
    "to_anotate.to_csv('data/to_anotate.csv', index=False)"
   ]
  }
 ],
 "metadata": {
  "colab": {
   "provenance": []
  },
  "kernelspec": {
   "display_name": "Python 3 (ipykernel)",
   "language": "python",
   "name": "python3"
  },
  "language_info": {
   "codemirror_mode": {
    "name": "ipython",
    "version": 3
   },
   "file_extension": ".py",
   "mimetype": "text/x-python",
   "name": "python",
   "nbconvert_exporter": "python",
   "pygments_lexer": "ipython3",
   "version": "3.9.13"
  }
 },
 "nbformat": 4,
 "nbformat_minor": 5
}